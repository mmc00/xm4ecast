{
 "cells": [
  {
   "cell_type": "code",
   "execution_count": 11,
   "metadata": {},
   "outputs": [],
   "source": [
    "import os\n",
    "import pandas as pd\n",
    "from pathlib import Path\n",
    "from fredapi import Fred\n",
    "import sys\n",
    "sys.path.append('../')\n",
    "from src.data import fred_data"
   ]
  },
  {
   "cell_type": "markdown",
   "metadata": {},
   "source": [
    "We set FED key"
   ]
  },
  {
   "cell_type": "code",
   "execution_count": 2,
   "metadata": {},
   "outputs": [
    {
     "data": {
      "text/plain": [
       "<fredapi.fred.Fred at 0x1a1587b4d60>"
      ]
     },
     "execution_count": 2,
     "metadata": {},
     "output_type": "execute_result"
    }
   ],
   "source": [
    "fred = Fred(os.getenv(\"API_FED\"))\n",
    "fred"
   ]
  },
  {
   "cell_type": "markdown",
   "metadata": {},
   "source": [
    "It is time to create a dict of the vars and their codes to be downloaded by the FED API"
   ]
  },
  {
   "cell_type": "code",
   "execution_count": 3,
   "metadata": {},
   "outputs": [],
   "source": [
    "codes_fed = {\n",
    "    \"crude_oil_wti\" : \"DCOILWTICO\",\n",
    "    \"crude_oil_brent\" : \"DCOILBRENTEU\",\n",
    "    \"gas_henry_hub\" : \"DHHNGSP\",\n",
    "    \"nominal_broad_usdollar\" : \"DTWEXBGS\",\n",
    "    \"yuan_dollar_spot_tc\" : \"DEXCHUS\",\n",
    "    \"usdollar_euro\" : \"DEXUSEU\",\n",
    "    \"treasury3month\" : \"DTB3\",\n",
    "    \"treasury1year\" : \"DTB1YR\",\n",
    "    \"treasury4week\" : \"DTB4WK\",\n",
    "    \"treasury6month\" : \"DTB6\"\n",
    "}"
   ]
  },
  {
   "cell_type": "markdown",
   "metadata": {},
   "source": [
    "We do the call"
   ]
  },
  {
   "cell_type": "code",
   "execution_count": 4,
   "metadata": {},
   "outputs": [],
   "source": [
    "data_fred = {}\n",
    "for k, v in codes_fed.items():\n",
    "    data_fred[k] = fred.get_series(v)"
   ]
  },
  {
   "cell_type": "code",
   "execution_count": 5,
   "metadata": {},
   "outputs": [
    {
     "data": {
      "text/plain": [
       "1986-01-02    25.56\n",
       "1986-01-03    26.00\n",
       "1986-01-06    26.53\n",
       "1986-01-07    25.85\n",
       "1986-01-08    25.87\n",
       "              ...  \n",
       "2022-08-09    93.18\n",
       "2022-08-10    94.68\n",
       "2022-08-11    97.02\n",
       "2022-08-12    94.86\n",
       "2022-08-15    92.24\n",
       "Length: 9553, dtype: float64"
      ]
     },
     "execution_count": 5,
     "metadata": {},
     "output_type": "execute_result"
    }
   ],
   "source": [
    "data_fred[\"crude_oil_wti\"]"
   ]
  },
  {
   "cell_type": "markdown",
   "metadata": {},
   "source": [
    "For creating the correct data frame we generate a fun that the logic is the same in the next code:"
   ]
  },
  {
   "cell_type": "code",
   "execution_count": 6,
   "metadata": {},
   "outputs": [
    {
     "data": {
      "text/html": [
       "<div>\n",
       "<style scoped>\n",
       "    .dataframe tbody tr th:only-of-type {\n",
       "        vertical-align: middle;\n",
       "    }\n",
       "\n",
       "    .dataframe tbody tr th {\n",
       "        vertical-align: top;\n",
       "    }\n",
       "\n",
       "    .dataframe thead th {\n",
       "        text-align: right;\n",
       "    }\n",
       "</style>\n",
       "<table border=\"1\" class=\"dataframe\">\n",
       "  <thead>\n",
       "    <tr style=\"text-align: right;\">\n",
       "      <th></th>\n",
       "      <th>date</th>\n",
       "      <th>value</th>\n",
       "      <th>variable</th>\n",
       "    </tr>\n",
       "  </thead>\n",
       "  <tbody>\n",
       "    <tr>\n",
       "      <th>0</th>\n",
       "      <td>1986-01-02</td>\n",
       "      <td>25.56</td>\n",
       "      <td>crude_oil_wti</td>\n",
       "    </tr>\n",
       "    <tr>\n",
       "      <th>1</th>\n",
       "      <td>1986-01-03</td>\n",
       "      <td>26.00</td>\n",
       "      <td>crude_oil_wti</td>\n",
       "    </tr>\n",
       "    <tr>\n",
       "      <th>2</th>\n",
       "      <td>1986-01-06</td>\n",
       "      <td>26.53</td>\n",
       "      <td>crude_oil_wti</td>\n",
       "    </tr>\n",
       "    <tr>\n",
       "      <th>3</th>\n",
       "      <td>1986-01-07</td>\n",
       "      <td>25.85</td>\n",
       "      <td>crude_oil_wti</td>\n",
       "    </tr>\n",
       "    <tr>\n",
       "      <th>4</th>\n",
       "      <td>1986-01-08</td>\n",
       "      <td>25.87</td>\n",
       "      <td>crude_oil_wti</td>\n",
       "    </tr>\n",
       "    <tr>\n",
       "      <th>...</th>\n",
       "      <td>...</td>\n",
       "      <td>...</td>\n",
       "      <td>...</td>\n",
       "    </tr>\n",
       "    <tr>\n",
       "      <th>9548</th>\n",
       "      <td>2022-08-09</td>\n",
       "      <td>93.18</td>\n",
       "      <td>crude_oil_wti</td>\n",
       "    </tr>\n",
       "    <tr>\n",
       "      <th>9549</th>\n",
       "      <td>2022-08-10</td>\n",
       "      <td>94.68</td>\n",
       "      <td>crude_oil_wti</td>\n",
       "    </tr>\n",
       "    <tr>\n",
       "      <th>9550</th>\n",
       "      <td>2022-08-11</td>\n",
       "      <td>97.02</td>\n",
       "      <td>crude_oil_wti</td>\n",
       "    </tr>\n",
       "    <tr>\n",
       "      <th>9551</th>\n",
       "      <td>2022-08-12</td>\n",
       "      <td>94.86</td>\n",
       "      <td>crude_oil_wti</td>\n",
       "    </tr>\n",
       "    <tr>\n",
       "      <th>9552</th>\n",
       "      <td>2022-08-15</td>\n",
       "      <td>92.24</td>\n",
       "      <td>crude_oil_wti</td>\n",
       "    </tr>\n",
       "  </tbody>\n",
       "</table>\n",
       "<p>9553 rows × 3 columns</p>\n",
       "</div>"
      ],
      "text/plain": [
       "           date  value       variable\n",
       "0    1986-01-02  25.56  crude_oil_wti\n",
       "1    1986-01-03  26.00  crude_oil_wti\n",
       "2    1986-01-06  26.53  crude_oil_wti\n",
       "3    1986-01-07  25.85  crude_oil_wti\n",
       "4    1986-01-08  25.87  crude_oil_wti\n",
       "...         ...    ...            ...\n",
       "9548 2022-08-09  93.18  crude_oil_wti\n",
       "9549 2022-08-10  94.68  crude_oil_wti\n",
       "9550 2022-08-11  97.02  crude_oil_wti\n",
       "9551 2022-08-12  94.86  crude_oil_wti\n",
       "9552 2022-08-15  92.24  crude_oil_wti\n",
       "\n",
       "[9553 rows x 3 columns]"
      ]
     },
     "execution_count": 6,
     "metadata": {},
     "output_type": "execute_result"
    }
   ],
   "source": [
    "temp = data_fred[\"crude_oil_wti\"].to_frame().reset_index()\n",
    "temp = (temp.rename(columns={temp.columns[0] : \"date\",\n",
    "                    temp.columns[1] : \"value\"})\n",
    "            .assign(variable = \"crude_oil_wti\")\n",
    "        )\n",
    "temp"
   ]
  },
  {
   "cell_type": "markdown",
   "metadata": {},
   "source": [
    "Here, we apply the fun"
   ]
  },
  {
   "cell_type": "code",
   "execution_count": 7,
   "metadata": {},
   "outputs": [],
   "source": [
    "data_fred_clean = {}\n",
    "for k, v in codes_fed.items():\n",
    "    data_fred_clean[k] = fred_data.cleaning_fred(ds=data_fred[k], var_name=k)"
   ]
  },
  {
   "cell_type": "code",
   "execution_count": 8,
   "metadata": {},
   "outputs": [
    {
     "data": {
      "text/html": [
       "<div>\n",
       "<style scoped>\n",
       "    .dataframe tbody tr th:only-of-type {\n",
       "        vertical-align: middle;\n",
       "    }\n",
       "\n",
       "    .dataframe tbody tr th {\n",
       "        vertical-align: top;\n",
       "    }\n",
       "\n",
       "    .dataframe thead th {\n",
       "        text-align: right;\n",
       "    }\n",
       "</style>\n",
       "<table border=\"1\" class=\"dataframe\">\n",
       "  <thead>\n",
       "    <tr style=\"text-align: right;\">\n",
       "      <th></th>\n",
       "      <th>date</th>\n",
       "      <th>value</th>\n",
       "      <th>variable</th>\n",
       "    </tr>\n",
       "  </thead>\n",
       "  <tbody>\n",
       "    <tr>\n",
       "      <th>0</th>\n",
       "      <td>1997-01-07</td>\n",
       "      <td>3.82</td>\n",
       "      <td>gas_henry_hub</td>\n",
       "    </tr>\n",
       "    <tr>\n",
       "      <th>1</th>\n",
       "      <td>1997-01-08</td>\n",
       "      <td>3.80</td>\n",
       "      <td>gas_henry_hub</td>\n",
       "    </tr>\n",
       "    <tr>\n",
       "      <th>2</th>\n",
       "      <td>1997-01-09</td>\n",
       "      <td>3.61</td>\n",
       "      <td>gas_henry_hub</td>\n",
       "    </tr>\n",
       "    <tr>\n",
       "      <th>3</th>\n",
       "      <td>1997-01-10</td>\n",
       "      <td>3.92</td>\n",
       "      <td>gas_henry_hub</td>\n",
       "    </tr>\n",
       "    <tr>\n",
       "      <th>4</th>\n",
       "      <td>1997-01-13</td>\n",
       "      <td>4.00</td>\n",
       "      <td>gas_henry_hub</td>\n",
       "    </tr>\n",
       "    <tr>\n",
       "      <th>...</th>\n",
       "      <td>...</td>\n",
       "      <td>...</td>\n",
       "      <td>...</td>\n",
       "    </tr>\n",
       "    <tr>\n",
       "      <th>6681</th>\n",
       "      <td>2022-08-10</td>\n",
       "      <td>7.86</td>\n",
       "      <td>gas_henry_hub</td>\n",
       "    </tr>\n",
       "    <tr>\n",
       "      <th>6682</th>\n",
       "      <td>2022-08-11</td>\n",
       "      <td>8.53</td>\n",
       "      <td>gas_henry_hub</td>\n",
       "    </tr>\n",
       "    <tr>\n",
       "      <th>6683</th>\n",
       "      <td>2022-08-12</td>\n",
       "      <td>8.73</td>\n",
       "      <td>gas_henry_hub</td>\n",
       "    </tr>\n",
       "    <tr>\n",
       "      <th>6684</th>\n",
       "      <td>2022-08-15</td>\n",
       "      <td>8.62</td>\n",
       "      <td>gas_henry_hub</td>\n",
       "    </tr>\n",
       "    <tr>\n",
       "      <th>6685</th>\n",
       "      <td>2022-08-16</td>\n",
       "      <td>9.28</td>\n",
       "      <td>gas_henry_hub</td>\n",
       "    </tr>\n",
       "  </tbody>\n",
       "</table>\n",
       "<p>6686 rows × 3 columns</p>\n",
       "</div>"
      ],
      "text/plain": [
       "           date  value       variable\n",
       "0    1997-01-07   3.82  gas_henry_hub\n",
       "1    1997-01-08   3.80  gas_henry_hub\n",
       "2    1997-01-09   3.61  gas_henry_hub\n",
       "3    1997-01-10   3.92  gas_henry_hub\n",
       "4    1997-01-13   4.00  gas_henry_hub\n",
       "...         ...    ...            ...\n",
       "6681 2022-08-10   7.86  gas_henry_hub\n",
       "6682 2022-08-11   8.53  gas_henry_hub\n",
       "6683 2022-08-12   8.73  gas_henry_hub\n",
       "6684 2022-08-15   8.62  gas_henry_hub\n",
       "6685 2022-08-16   9.28  gas_henry_hub\n",
       "\n",
       "[6686 rows x 3 columns]"
      ]
     },
     "execution_count": 8,
     "metadata": {},
     "output_type": "execute_result"
    }
   ],
   "source": [
    "data_fred_clean['gas_henry_hub']"
   ]
  },
  {
   "cell_type": "markdown",
   "metadata": {},
   "source": [
    "Concat the dataframes"
   ]
  },
  {
   "cell_type": "code",
   "execution_count": 9,
   "metadata": {},
   "outputs": [
    {
     "data": {
      "text/html": [
       "<div>\n",
       "<style scoped>\n",
       "    .dataframe tbody tr th:only-of-type {\n",
       "        vertical-align: middle;\n",
       "    }\n",
       "\n",
       "    .dataframe tbody tr th {\n",
       "        vertical-align: top;\n",
       "    }\n",
       "\n",
       "    .dataframe thead th {\n",
       "        text-align: right;\n",
       "    }\n",
       "</style>\n",
       "<table border=\"1\" class=\"dataframe\">\n",
       "  <thead>\n",
       "    <tr style=\"text-align: right;\">\n",
       "      <th></th>\n",
       "      <th>date</th>\n",
       "      <th>value</th>\n",
       "      <th>variable</th>\n",
       "    </tr>\n",
       "  </thead>\n",
       "  <tbody>\n",
       "    <tr>\n",
       "      <th>0</th>\n",
       "      <td>1986-01-02</td>\n",
       "      <td>25.56</td>\n",
       "      <td>crude_oil_wti</td>\n",
       "    </tr>\n",
       "    <tr>\n",
       "      <th>1</th>\n",
       "      <td>1986-01-03</td>\n",
       "      <td>26.00</td>\n",
       "      <td>crude_oil_wti</td>\n",
       "    </tr>\n",
       "    <tr>\n",
       "      <th>2</th>\n",
       "      <td>1986-01-06</td>\n",
       "      <td>26.53</td>\n",
       "      <td>crude_oil_wti</td>\n",
       "    </tr>\n",
       "    <tr>\n",
       "      <th>3</th>\n",
       "      <td>1986-01-07</td>\n",
       "      <td>25.85</td>\n",
       "      <td>crude_oil_wti</td>\n",
       "    </tr>\n",
       "    <tr>\n",
       "      <th>4</th>\n",
       "      <td>1986-01-08</td>\n",
       "      <td>25.87</td>\n",
       "      <td>crude_oil_wti</td>\n",
       "    </tr>\n",
       "    <tr>\n",
       "      <th>...</th>\n",
       "      <td>...</td>\n",
       "      <td>...</td>\n",
       "      <td>...</td>\n",
       "    </tr>\n",
       "    <tr>\n",
       "      <th>103275</th>\n",
       "      <td>2022-08-15</td>\n",
       "      <td>3.02</td>\n",
       "      <td>treasury6month</td>\n",
       "    </tr>\n",
       "    <tr>\n",
       "      <th>103276</th>\n",
       "      <td>2022-08-16</td>\n",
       "      <td>3.01</td>\n",
       "      <td>treasury6month</td>\n",
       "    </tr>\n",
       "    <tr>\n",
       "      <th>103277</th>\n",
       "      <td>2022-08-17</td>\n",
       "      <td>3.03</td>\n",
       "      <td>treasury6month</td>\n",
       "    </tr>\n",
       "    <tr>\n",
       "      <th>103278</th>\n",
       "      <td>2022-08-18</td>\n",
       "      <td>3.01</td>\n",
       "      <td>treasury6month</td>\n",
       "    </tr>\n",
       "    <tr>\n",
       "      <th>103279</th>\n",
       "      <td>2022-08-19</td>\n",
       "      <td>3.04</td>\n",
       "      <td>treasury6month</td>\n",
       "    </tr>\n",
       "  </tbody>\n",
       "</table>\n",
       "<p>103280 rows × 3 columns</p>\n",
       "</div>"
      ],
      "text/plain": [
       "             date  value        variable\n",
       "0      1986-01-02  25.56   crude_oil_wti\n",
       "1      1986-01-03  26.00   crude_oil_wti\n",
       "2      1986-01-06  26.53   crude_oil_wti\n",
       "3      1986-01-07  25.85   crude_oil_wti\n",
       "4      1986-01-08  25.87   crude_oil_wti\n",
       "...           ...    ...             ...\n",
       "103275 2022-08-15   3.02  treasury6month\n",
       "103276 2022-08-16   3.01  treasury6month\n",
       "103277 2022-08-17   3.03  treasury6month\n",
       "103278 2022-08-18   3.01  treasury6month\n",
       "103279 2022-08-19   3.04  treasury6month\n",
       "\n",
       "[103280 rows x 3 columns]"
      ]
     },
     "execution_count": 9,
     "metadata": {},
     "output_type": "execute_result"
    }
   ],
   "source": [
    "raw_fred = pd.concat(data_fred_clean, axis=0, ignore_index=True)\n",
    "raw_fred"
   ]
  },
  {
   "cell_type": "markdown",
   "metadata": {},
   "source": [
    "Saving the dataframe"
   ]
  },
  {
   "cell_type": "code",
   "execution_count": 18,
   "metadata": {},
   "outputs": [
    {
     "name": "stdout",
     "output_type": "stream",
     "text": [
      "output path is:c:\\Documentos\\proyectos\\xm4ecast\\data\\raw_fred.csv\n"
     ]
    }
   ],
   "source": [
    "fred_path = Path.cwd().parent.joinpath(\"data\", \"raw_fred.csv\")\n",
    "print(f\"output path is:{fred_path}\")\n",
    "raw_fred.to_csv(fred_path, index=False)"
   ]
  }
 ],
 "metadata": {
  "kernelspec": {
   "display_name": "Python 3.9.12 (conda)",
   "language": "python",
   "name": "python3"
  },
  "language_info": {
   "codemirror_mode": {
    "name": "ipython",
    "version": 3
   },
   "file_extension": ".py",
   "mimetype": "text/x-python",
   "name": "python",
   "nbconvert_exporter": "python",
   "pygments_lexer": "ipython3",
   "version": "3.9.12"
  },
  "orig_nbformat": 4,
  "vscode": {
   "interpreter": {
    "hash": "5eb01a626995ddc229fec98ea359c33dd14b348c4f2ca6a2e2f2d3cd68da3526"
   }
  }
 },
 "nbformat": 4,
 "nbformat_minor": 2
}
