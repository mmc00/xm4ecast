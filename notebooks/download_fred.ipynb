{
 "cells": [
  {
   "cell_type": "code",
   "execution_count": 1,
   "metadata": {},
   "outputs": [],
   "source": [
    "import os\n",
    "import pandas as pd\n",
    "from pathlib import Path\n",
    "from fredapi import Fred\n",
    "import sys\n",
    "sys.path.append('../')\n",
    "from src.data import fred_data"
   ]
  },
  {
   "cell_type": "markdown",
   "metadata": {},
   "source": [
    "We set FED key"
   ]
  },
  {
   "cell_type": "code",
   "execution_count": 2,
   "metadata": {},
   "outputs": [
    {
     "data": {
      "text/plain": [
       "<fredapi.fred.Fred at 0x1c44ad90160>"
      ]
     },
     "execution_count": 2,
     "metadata": {},
     "output_type": "execute_result"
    }
   ],
   "source": [
    "fred = Fred(os.getenv(\"API_FED\"))\n",
    "fred"
   ]
  },
  {
   "cell_type": "markdown",
   "metadata": {},
   "source": [
    "It is time to create a dict of the vars and their codes to be downloaded by the FED API"
   ]
  },
  {
   "cell_type": "code",
   "execution_count": 3,
   "metadata": {},
   "outputs": [],
   "source": [
    "codes_fed = {\n",
    "    \"crude_oil_wti\" : \"DCOILWTICO\",\n",
    "    \"crude_oil_brent\" : \"DCOILBRENTEU\",\n",
    "    \"gas_henry_hub\" : \"DHHNGSP\",\n",
    "    \"nominal_broad_usdollar\" : \"DTWEXBGS\",\n",
    "    \"yuan_dollar_spot_tc\" : \"DEXCHUS\",\n",
    "    \"usdollar_euro\" : \"DEXUSEU\",\n",
    "    \"treasury3month\" : \"DTB3\",\n",
    "    \"treasury1year\" : \"DTB1YR\",\n",
    "    \"treasury4week\" : \"DTB4WK\",\n",
    "    \"treasury6month\" : \"DTB6\",\n",
    "    \"chn_x\" : \"XTEXVA01CNM667S\",\n",
    "    \"chn_m\" : \"XTIMVA01CNM667S\",\n",
    "    \"ue_x\" : \"XTEXVA01EZM667S\",\n",
    "    \"ue_m\" : \"XTIMVA01EZM667S\",\n",
    "    \"usa_x\" : \"BOPTEXP\",\n",
    "    \"usa_m\" : \"BOPTIMP\"\n",
    "}"
   ]
  },
  {
   "cell_type": "markdown",
   "metadata": {},
   "source": [
    "We do the call"
   ]
  },
  {
   "cell_type": "code",
   "execution_count": 4,
   "metadata": {},
   "outputs": [],
   "source": [
    "data_fred = {}\n",
    "for k, v in codes_fed.items():\n",
    "    data_fred[k] = fred.get_series(v)"
   ]
  },
  {
   "cell_type": "code",
   "execution_count": 5,
   "metadata": {},
   "outputs": [
    {
     "data": {
      "text/plain": [
       "1986-01-02    25.56\n",
       "1986-01-03    26.00\n",
       "1986-01-06    26.53\n",
       "1986-01-07    25.85\n",
       "1986-01-08    25.87\n",
       "              ...  \n",
       "2022-11-08    88.80\n",
       "2022-11-09    85.79\n",
       "2022-11-10    86.52\n",
       "2022-11-11    89.14\n",
       "2022-11-14    85.85\n",
       "Length: 9618, dtype: float64"
      ]
     },
     "execution_count": 5,
     "metadata": {},
     "output_type": "execute_result"
    }
   ],
   "source": [
    "data_fred[\"crude_oil_wti\"]"
   ]
  },
  {
   "cell_type": "markdown",
   "metadata": {},
   "source": [
    "For creating the correct data frame we generate a fun that the logic is the same in the next code:"
   ]
  },
  {
   "cell_type": "code",
   "execution_count": 6,
   "metadata": {},
   "outputs": [
    {
     "data": {
      "text/html": [
       "<div>\n",
       "<style scoped>\n",
       "    .dataframe tbody tr th:only-of-type {\n",
       "        vertical-align: middle;\n",
       "    }\n",
       "\n",
       "    .dataframe tbody tr th {\n",
       "        vertical-align: top;\n",
       "    }\n",
       "\n",
       "    .dataframe thead th {\n",
       "        text-align: right;\n",
       "    }\n",
       "</style>\n",
       "<table border=\"1\" class=\"dataframe\">\n",
       "  <thead>\n",
       "    <tr style=\"text-align: right;\">\n",
       "      <th></th>\n",
       "      <th>date</th>\n",
       "      <th>value</th>\n",
       "      <th>variable</th>\n",
       "    </tr>\n",
       "  </thead>\n",
       "  <tbody>\n",
       "    <tr>\n",
       "      <th>0</th>\n",
       "      <td>1986-01-02</td>\n",
       "      <td>25.56</td>\n",
       "      <td>crude_oil_wti</td>\n",
       "    </tr>\n",
       "    <tr>\n",
       "      <th>1</th>\n",
       "      <td>1986-01-03</td>\n",
       "      <td>26.00</td>\n",
       "      <td>crude_oil_wti</td>\n",
       "    </tr>\n",
       "    <tr>\n",
       "      <th>2</th>\n",
       "      <td>1986-01-06</td>\n",
       "      <td>26.53</td>\n",
       "      <td>crude_oil_wti</td>\n",
       "    </tr>\n",
       "    <tr>\n",
       "      <th>3</th>\n",
       "      <td>1986-01-07</td>\n",
       "      <td>25.85</td>\n",
       "      <td>crude_oil_wti</td>\n",
       "    </tr>\n",
       "    <tr>\n",
       "      <th>4</th>\n",
       "      <td>1986-01-08</td>\n",
       "      <td>25.87</td>\n",
       "      <td>crude_oil_wti</td>\n",
       "    </tr>\n",
       "    <tr>\n",
       "      <th>...</th>\n",
       "      <td>...</td>\n",
       "      <td>...</td>\n",
       "      <td>...</td>\n",
       "    </tr>\n",
       "    <tr>\n",
       "      <th>9613</th>\n",
       "      <td>2022-11-08</td>\n",
       "      <td>88.80</td>\n",
       "      <td>crude_oil_wti</td>\n",
       "    </tr>\n",
       "    <tr>\n",
       "      <th>9614</th>\n",
       "      <td>2022-11-09</td>\n",
       "      <td>85.79</td>\n",
       "      <td>crude_oil_wti</td>\n",
       "    </tr>\n",
       "    <tr>\n",
       "      <th>9615</th>\n",
       "      <td>2022-11-10</td>\n",
       "      <td>86.52</td>\n",
       "      <td>crude_oil_wti</td>\n",
       "    </tr>\n",
       "    <tr>\n",
       "      <th>9616</th>\n",
       "      <td>2022-11-11</td>\n",
       "      <td>89.14</td>\n",
       "      <td>crude_oil_wti</td>\n",
       "    </tr>\n",
       "    <tr>\n",
       "      <th>9617</th>\n",
       "      <td>2022-11-14</td>\n",
       "      <td>85.85</td>\n",
       "      <td>crude_oil_wti</td>\n",
       "    </tr>\n",
       "  </tbody>\n",
       "</table>\n",
       "<p>9618 rows × 3 columns</p>\n",
       "</div>"
      ],
      "text/plain": [
       "           date  value       variable\n",
       "0    1986-01-02  25.56  crude_oil_wti\n",
       "1    1986-01-03  26.00  crude_oil_wti\n",
       "2    1986-01-06  26.53  crude_oil_wti\n",
       "3    1986-01-07  25.85  crude_oil_wti\n",
       "4    1986-01-08  25.87  crude_oil_wti\n",
       "...         ...    ...            ...\n",
       "9613 2022-11-08  88.80  crude_oil_wti\n",
       "9614 2022-11-09  85.79  crude_oil_wti\n",
       "9615 2022-11-10  86.52  crude_oil_wti\n",
       "9616 2022-11-11  89.14  crude_oil_wti\n",
       "9617 2022-11-14  85.85  crude_oil_wti\n",
       "\n",
       "[9618 rows x 3 columns]"
      ]
     },
     "execution_count": 6,
     "metadata": {},
     "output_type": "execute_result"
    }
   ],
   "source": [
    "temp = data_fred[\"crude_oil_wti\"].to_frame().reset_index()\n",
    "temp = (temp.rename(columns={temp.columns[0] : \"date\",\n",
    "                    temp.columns[1] : \"value\"})\n",
    "            .assign(variable = \"crude_oil_wti\")\n",
    "        )\n",
    "temp"
   ]
  },
  {
   "cell_type": "markdown",
   "metadata": {},
   "source": [
    "Here, we apply the fun"
   ]
  },
  {
   "cell_type": "code",
   "execution_count": 7,
   "metadata": {},
   "outputs": [],
   "source": [
    "data_fred_clean = {}\n",
    "for k, v in codes_fed.items():\n",
    "    data_fred_clean[k] = fred_data.cleaning_fred(ds=data_fred[k], var_name=k)"
   ]
  },
  {
   "cell_type": "code",
   "execution_count": 8,
   "metadata": {},
   "outputs": [
    {
     "data": {
      "text/html": [
       "<div>\n",
       "<style scoped>\n",
       "    .dataframe tbody tr th:only-of-type {\n",
       "        vertical-align: middle;\n",
       "    }\n",
       "\n",
       "    .dataframe tbody tr th {\n",
       "        vertical-align: top;\n",
       "    }\n",
       "\n",
       "    .dataframe thead th {\n",
       "        text-align: right;\n",
       "    }\n",
       "</style>\n",
       "<table border=\"1\" class=\"dataframe\">\n",
       "  <thead>\n",
       "    <tr style=\"text-align: right;\">\n",
       "      <th></th>\n",
       "      <th>date</th>\n",
       "      <th>value</th>\n",
       "      <th>var</th>\n",
       "    </tr>\n",
       "  </thead>\n",
       "  <tbody>\n",
       "    <tr>\n",
       "      <th>0</th>\n",
       "      <td>1997-01-07</td>\n",
       "      <td>3.82</td>\n",
       "      <td>gas_henry_hub</td>\n",
       "    </tr>\n",
       "    <tr>\n",
       "      <th>1</th>\n",
       "      <td>1997-01-08</td>\n",
       "      <td>3.80</td>\n",
       "      <td>gas_henry_hub</td>\n",
       "    </tr>\n",
       "    <tr>\n",
       "      <th>2</th>\n",
       "      <td>1997-01-09</td>\n",
       "      <td>3.61</td>\n",
       "      <td>gas_henry_hub</td>\n",
       "    </tr>\n",
       "    <tr>\n",
       "      <th>3</th>\n",
       "      <td>1997-01-10</td>\n",
       "      <td>3.92</td>\n",
       "      <td>gas_henry_hub</td>\n",
       "    </tr>\n",
       "    <tr>\n",
       "      <th>4</th>\n",
       "      <td>1997-01-13</td>\n",
       "      <td>4.00</td>\n",
       "      <td>gas_henry_hub</td>\n",
       "    </tr>\n",
       "    <tr>\n",
       "      <th>...</th>\n",
       "      <td>...</td>\n",
       "      <td>...</td>\n",
       "      <td>...</td>\n",
       "    </tr>\n",
       "    <tr>\n",
       "      <th>6746</th>\n",
       "      <td>2022-11-09</td>\n",
       "      <td>3.46</td>\n",
       "      <td>gas_henry_hub</td>\n",
       "    </tr>\n",
       "    <tr>\n",
       "      <th>6747</th>\n",
       "      <td>2022-11-10</td>\n",
       "      <td>4.80</td>\n",
       "      <td>gas_henry_hub</td>\n",
       "    </tr>\n",
       "    <tr>\n",
       "      <th>6748</th>\n",
       "      <td>2022-11-11</td>\n",
       "      <td>4.80</td>\n",
       "      <td>gas_henry_hub</td>\n",
       "    </tr>\n",
       "    <tr>\n",
       "      <th>6749</th>\n",
       "      <td>2022-11-14</td>\n",
       "      <td>6.24</td>\n",
       "      <td>gas_henry_hub</td>\n",
       "    </tr>\n",
       "    <tr>\n",
       "      <th>6750</th>\n",
       "      <td>2022-11-15</td>\n",
       "      <td>5.90</td>\n",
       "      <td>gas_henry_hub</td>\n",
       "    </tr>\n",
       "  </tbody>\n",
       "</table>\n",
       "<p>6751 rows × 3 columns</p>\n",
       "</div>"
      ],
      "text/plain": [
       "           date  value            var\n",
       "0    1997-01-07   3.82  gas_henry_hub\n",
       "1    1997-01-08   3.80  gas_henry_hub\n",
       "2    1997-01-09   3.61  gas_henry_hub\n",
       "3    1997-01-10   3.92  gas_henry_hub\n",
       "4    1997-01-13   4.00  gas_henry_hub\n",
       "...         ...    ...            ...\n",
       "6746 2022-11-09   3.46  gas_henry_hub\n",
       "6747 2022-11-10   4.80  gas_henry_hub\n",
       "6748 2022-11-11   4.80  gas_henry_hub\n",
       "6749 2022-11-14   6.24  gas_henry_hub\n",
       "6750 2022-11-15   5.90  gas_henry_hub\n",
       "\n",
       "[6751 rows x 3 columns]"
      ]
     },
     "execution_count": 8,
     "metadata": {},
     "output_type": "execute_result"
    }
   ],
   "source": [
    "data_fred_clean['gas_henry_hub']"
   ]
  },
  {
   "cell_type": "code",
   "execution_count": 9,
   "metadata": {},
   "outputs": [
    {
     "data": {
      "text/html": [
       "<div>\n",
       "<style scoped>\n",
       "    .dataframe tbody tr th:only-of-type {\n",
       "        vertical-align: middle;\n",
       "    }\n",
       "\n",
       "    .dataframe tbody tr th {\n",
       "        vertical-align: top;\n",
       "    }\n",
       "\n",
       "    .dataframe thead th {\n",
       "        text-align: right;\n",
       "    }\n",
       "</style>\n",
       "<table border=\"1\" class=\"dataframe\">\n",
       "  <thead>\n",
       "    <tr style=\"text-align: right;\">\n",
       "      <th></th>\n",
       "      <th>date</th>\n",
       "      <th>value</th>\n",
       "      <th>var</th>\n",
       "    </tr>\n",
       "  </thead>\n",
       "  <tbody>\n",
       "    <tr>\n",
       "      <th>0</th>\n",
       "      <td>1992-01-01</td>\n",
       "      <td>50251.0</td>\n",
       "      <td>usa_x</td>\n",
       "    </tr>\n",
       "    <tr>\n",
       "      <th>1</th>\n",
       "      <td>1992-02-01</td>\n",
       "      <td>51682.0</td>\n",
       "      <td>usa_x</td>\n",
       "    </tr>\n",
       "    <tr>\n",
       "      <th>2</th>\n",
       "      <td>1992-03-01</td>\n",
       "      <td>50294.0</td>\n",
       "      <td>usa_x</td>\n",
       "    </tr>\n",
       "    <tr>\n",
       "      <th>3</th>\n",
       "      <td>1992-04-01</td>\n",
       "      <td>50302.0</td>\n",
       "      <td>usa_x</td>\n",
       "    </tr>\n",
       "    <tr>\n",
       "      <th>4</th>\n",
       "      <td>1992-05-01</td>\n",
       "      <td>50044.0</td>\n",
       "      <td>usa_x</td>\n",
       "    </tr>\n",
       "    <tr>\n",
       "      <th>...</th>\n",
       "      <td>...</td>\n",
       "      <td>...</td>\n",
       "      <td>...</td>\n",
       "    </tr>\n",
       "    <tr>\n",
       "      <th>364</th>\n",
       "      <td>2022-05-01</td>\n",
       "      <td>254532.0</td>\n",
       "      <td>usa_x</td>\n",
       "    </tr>\n",
       "    <tr>\n",
       "      <th>365</th>\n",
       "      <td>2022-06-01</td>\n",
       "      <td>258763.0</td>\n",
       "      <td>usa_x</td>\n",
       "    </tr>\n",
       "    <tr>\n",
       "      <th>366</th>\n",
       "      <td>2022-07-01</td>\n",
       "      <td>259585.0</td>\n",
       "      <td>usa_x</td>\n",
       "    </tr>\n",
       "    <tr>\n",
       "      <th>367</th>\n",
       "      <td>2022-08-01</td>\n",
       "      <td>260793.0</td>\n",
       "      <td>usa_x</td>\n",
       "    </tr>\n",
       "    <tr>\n",
       "      <th>368</th>\n",
       "      <td>2022-09-01</td>\n",
       "      <td>258004.0</td>\n",
       "      <td>usa_x</td>\n",
       "    </tr>\n",
       "  </tbody>\n",
       "</table>\n",
       "<p>369 rows × 3 columns</p>\n",
       "</div>"
      ],
      "text/plain": [
       "          date     value    var\n",
       "0   1992-01-01   50251.0  usa_x\n",
       "1   1992-02-01   51682.0  usa_x\n",
       "2   1992-03-01   50294.0  usa_x\n",
       "3   1992-04-01   50302.0  usa_x\n",
       "4   1992-05-01   50044.0  usa_x\n",
       "..         ...       ...    ...\n",
       "364 2022-05-01  254532.0  usa_x\n",
       "365 2022-06-01  258763.0  usa_x\n",
       "366 2022-07-01  259585.0  usa_x\n",
       "367 2022-08-01  260793.0  usa_x\n",
       "368 2022-09-01  258004.0  usa_x\n",
       "\n",
       "[369 rows x 3 columns]"
      ]
     },
     "execution_count": 9,
     "metadata": {},
     "output_type": "execute_result"
    }
   ],
   "source": [
    "data_fred_clean[\"usa_x\"]"
   ]
  },
  {
   "cell_type": "markdown",
   "metadata": {},
   "source": [
    "Concat the dataframes"
   ]
  },
  {
   "cell_type": "code",
   "execution_count": 10,
   "metadata": {},
   "outputs": [
    {
     "data": {
      "text/html": [
       "<div>\n",
       "<style scoped>\n",
       "    .dataframe tbody tr th:only-of-type {\n",
       "        vertical-align: middle;\n",
       "    }\n",
       "\n",
       "    .dataframe tbody tr th {\n",
       "        vertical-align: top;\n",
       "    }\n",
       "\n",
       "    .dataframe thead th {\n",
       "        text-align: right;\n",
       "    }\n",
       "</style>\n",
       "<table border=\"1\" class=\"dataframe\">\n",
       "  <thead>\n",
       "    <tr style=\"text-align: right;\">\n",
       "      <th></th>\n",
       "      <th>date</th>\n",
       "      <th>value</th>\n",
       "      <th>var</th>\n",
       "    </tr>\n",
       "  </thead>\n",
       "  <tbody>\n",
       "    <tr>\n",
       "      <th>0</th>\n",
       "      <td>1986-01-02</td>\n",
       "      <td>25.56</td>\n",
       "      <td>crude_oil_wti</td>\n",
       "    </tr>\n",
       "    <tr>\n",
       "      <th>1</th>\n",
       "      <td>1986-01-03</td>\n",
       "      <td>26.00</td>\n",
       "      <td>crude_oil_wti</td>\n",
       "    </tr>\n",
       "    <tr>\n",
       "      <th>2</th>\n",
       "      <td>1986-01-06</td>\n",
       "      <td>26.53</td>\n",
       "      <td>crude_oil_wti</td>\n",
       "    </tr>\n",
       "    <tr>\n",
       "      <th>3</th>\n",
       "      <td>1986-01-07</td>\n",
       "      <td>25.85</td>\n",
       "      <td>crude_oil_wti</td>\n",
       "    </tr>\n",
       "    <tr>\n",
       "      <th>4</th>\n",
       "      <td>1986-01-08</td>\n",
       "      <td>25.87</td>\n",
       "      <td>crude_oil_wti</td>\n",
       "    </tr>\n",
       "    <tr>\n",
       "      <th>...</th>\n",
       "      <td>...</td>\n",
       "      <td>...</td>\n",
       "      <td>...</td>\n",
       "    </tr>\n",
       "    <tr>\n",
       "      <th>106187</th>\n",
       "      <td>2022-05-01</td>\n",
       "      <td>340385.00</td>\n",
       "      <td>usa_m</td>\n",
       "    </tr>\n",
       "    <tr>\n",
       "      <th>106188</th>\n",
       "      <td>2022-06-01</td>\n",
       "      <td>339642.00</td>\n",
       "      <td>usa_m</td>\n",
       "    </tr>\n",
       "    <tr>\n",
       "      <th>106189</th>\n",
       "      <td>2022-07-01</td>\n",
       "      <td>330040.00</td>\n",
       "      <td>usa_m</td>\n",
       "    </tr>\n",
       "    <tr>\n",
       "      <th>106190</th>\n",
       "      <td>2022-08-01</td>\n",
       "      <td>326472.00</td>\n",
       "      <td>usa_m</td>\n",
       "    </tr>\n",
       "    <tr>\n",
       "      <th>106191</th>\n",
       "      <td>2022-09-01</td>\n",
       "      <td>331287.00</td>\n",
       "      <td>usa_m</td>\n",
       "    </tr>\n",
       "  </tbody>\n",
       "</table>\n",
       "<p>106192 rows × 3 columns</p>\n",
       "</div>"
      ],
      "text/plain": [
       "             date      value            var\n",
       "0      1986-01-02      25.56  crude_oil_wti\n",
       "1      1986-01-03      26.00  crude_oil_wti\n",
       "2      1986-01-06      26.53  crude_oil_wti\n",
       "3      1986-01-07      25.85  crude_oil_wti\n",
       "4      1986-01-08      25.87  crude_oil_wti\n",
       "...           ...        ...            ...\n",
       "106187 2022-05-01  340385.00          usa_m\n",
       "106188 2022-06-01  339642.00          usa_m\n",
       "106189 2022-07-01  330040.00          usa_m\n",
       "106190 2022-08-01  326472.00          usa_m\n",
       "106191 2022-09-01  331287.00          usa_m\n",
       "\n",
       "[106192 rows x 3 columns]"
      ]
     },
     "execution_count": 10,
     "metadata": {},
     "output_type": "execute_result"
    }
   ],
   "source": [
    "raw_fred = pd.concat(data_fred_clean, axis=0, ignore_index=True)\n",
    "raw_fred"
   ]
  },
  {
   "cell_type": "markdown",
   "metadata": {},
   "source": [
    "Saving the dataframe"
   ]
  },
  {
   "cell_type": "code",
   "execution_count": 11,
   "metadata": {},
   "outputs": [
    {
     "name": "stdout",
     "output_type": "stream",
     "text": [
      "output path is:c:\\Documentos\\proyectos\\xm4ecast\\data\\raw_fred.csv\n"
     ]
    }
   ],
   "source": [
    "fred_path = Path.cwd().parent.joinpath(\"data\", \"raw_fred.csv\")\n",
    "print(f\"output path is:{fred_path}\")\n",
    "raw_fred.to_csv(fred_path, index=False)"
   ]
  }
 ],
 "metadata": {
  "kernelspec": {
   "display_name": "Python 3.9.12 (conda)",
   "language": "python",
   "name": "python3"
  },
  "language_info": {
   "codemirror_mode": {
    "name": "ipython",
    "version": 3
   },
   "file_extension": ".py",
   "mimetype": "text/x-python",
   "name": "python",
   "nbconvert_exporter": "python",
   "pygments_lexer": "ipython3",
   "version": "3.9.12"
  },
  "orig_nbformat": 4,
  "vscode": {
   "interpreter": {
    "hash": "5eb01a626995ddc229fec98ea359c33dd14b348c4f2ca6a2e2f2d3cd68da3526"
   }
  }
 },
 "nbformat": 4,
 "nbformat_minor": 2
}
