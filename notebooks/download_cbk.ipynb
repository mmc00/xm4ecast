{
 "cells": [
  {
   "cell_type": "markdown",
   "metadata": {},
   "source": [
    "## API Central Bank of Costa Rica\n",
    "\n",
    "The idea of this notebook is to extract data from the API of the Central Bank of Costa Rica. With this we can get the data for the model."
   ]
  },
  {
   "cell_type": "code",
   "execution_count": null,
   "metadata": {},
   "outputs": [],
   "source": [
    "import requests\n",
    "import os\n",
    "import pandas as pd\n",
    "import numpy as np\n",
    "import time\n",
    "import sys\n",
    "sys.path.append('../')\n",
    "from src.data import cbk_data"
   ]
  },
  {
   "cell_type": "markdown",
   "metadata": {},
   "source": [
    "First we create the parametes for call"
   ]
  },
  {
   "cell_type": "code",
   "execution_count": null,
   "metadata": {},
   "outputs": [],
   "source": [
    "url = \"https://gee.bccr.fi.cr/Indicadores/Suscripciones/WS/wsindicadoreseconomicos.asmx/ObtenerIndicadoresEconomicos?\"\n",
    "current_time = time.strftime(\"%d/%m/%Y\")\n",
    "params_bccr = {\n",
    "    \"Indicador\": \"3181\",\n",
    "    \"FechaInicio\": \"01/01/1999\",\n",
    "    \"FechaFinal\": current_time,\n",
    "    \"Nombre\": \"Marlon\",\n",
    "    \"Subniveles\": \"S\",\n",
    "    \"CorreoElectronico\": os.getenv(\"BCCR_USER\"),\n",
    "    \"Token\": os.getenv(\"BCCR_PASS\")\n",
    "}\n",
    "\n",
    "code_vars = {\n",
    "            \"exp\" : \"1992\",\n",
    "            \"imp\" : \"1993\",\n",
    "            \"imae\": \"87703\",\n",
    "            \"tpm\": \"3541\",\n",
    "            \"monex_amount_mean\" : \"3451\",\n",
    "            \"tc_monex\" : \"3438\",\n",
    "            \"gold\" : \"1979\",\n",
    "            \"tc_sell\" : \"3140\",\n",
    "            \"tc_buy\" : \"3280\",\n",
    "            # \"reserv\" : \"19578\",\n",
    "            \"mil_count\" : \"3799\",\n",
    "            # \"mil_lapse\" : \"3801\"\n",
    "            # \"deuda\" : \"3745\"\n",
    "             }\n"
   ]
  },
  {
   "cell_type": "markdown",
   "metadata": {},
   "source": [
    "We do the calls"
   ]
  },
  {
   "cell_type": "code",
   "execution_count": null,
   "metadata": {},
   "outputs": [],
   "source": [
    "api_varscall = {}\n",
    "for k, v in code_vars.items():\n",
    "  api_varscall[k] = cbk_data.api_call(var_code= v, start_date = \"01/01/1999\",\n",
    "                             end_date = current_time, type_exc = \"\", var_name = k)\n",
    "  api_varscall[k].params_bccr()\n",
    "  api_varscall[k].api_call()\n",
    "  api_varscall[k] = api_varscall[k].create_data()\n",
    "  api_varscall[k] = api_varscall[k].drop(columns='type').rename(columns={'bank' : 'variable'})"
   ]
  }
 ],
 "metadata": {
  "kernelspec": {
   "display_name": "Python 3.9.12 (conda)",
   "language": "python",
   "name": "python3"
  },
  "language_info": {
   "codemirror_mode": {
    "name": "ipython",
    "version": 3
   },
   "file_extension": ".py",
   "mimetype": "text/x-python",
   "name": "python",
   "nbconvert_exporter": "python",
   "pygments_lexer": "ipython3",
   "version": "3.9.12"
  },
  "orig_nbformat": 4,
  "vscode": {
   "interpreter": {
    "hash": "5eb01a626995ddc229fec98ea359c33dd14b348c4f2ca6a2e2f2d3cd68da3526"
   }
  }
 },
 "nbformat": 4,
 "nbformat_minor": 2
}
