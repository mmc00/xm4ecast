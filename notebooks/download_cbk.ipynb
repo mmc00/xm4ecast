{
 "cells": [
  {
   "cell_type": "markdown",
   "metadata": {},
   "source": [
    "## API Central Bank of Costa Rica\n",
    "\n",
    "The idea of this notebook is to extract data from the API of the Central Bank of Costa Rica. With this we can get the data for the model."
   ]
  },
  {
   "cell_type": "code",
   "execution_count": 1,
   "metadata": {},
   "outputs": [],
   "source": [
    "import requests\n",
    "import os\n",
    "import pandas as pd\n",
    "import numpy as np\n",
    "import time\n",
    "import sys\n",
    "from pathlib import Path\n",
    "sys.path.append('../')\n",
    "from src.data import cbk_data"
   ]
  },
  {
   "cell_type": "markdown",
   "metadata": {},
   "source": [
    "First we create the parametes for call"
   ]
  },
  {
   "cell_type": "code",
   "execution_count": 2,
   "metadata": {},
   "outputs": [],
   "source": [
    "url = \"https://gee.bccr.fi.cr/Indicadores/Suscripciones/WS/wsindicadoreseconomicos.asmx/ObtenerIndicadoresEconomicos?\"\n",
    "current_time = time.strftime(\"%d/%m/%Y\")\n",
    "params_bccr = {\n",
    "    \"Indicador\": \"3181\",\n",
    "    \"FechaInicio\": \"01/01/1999\",\n",
    "    \"FechaFinal\": current_time,\n",
    "    \"Nombre\": \"Marlon\",\n",
    "    \"Subniveles\": \"S\",\n",
    "    \"CorreoElectronico\": os.getenv(\"BCCR_USER\"),\n",
    "    \"Token\": os.getenv(\"BCCR_PASS\")\n",
    "}\n",
    "\n",
    "code_vars = {\n",
    "            \"exp\" : \"1992\",\n",
    "            \"imp\" : \"1993\",\n",
    "            \"imae\": \"87703\",\n",
    "            \"tpm\": \"3541\",\n",
    "            \"monex_amount_mean\" : \"3451\",\n",
    "            \"tc_monex\" : \"3438\",\n",
    "            \"gold\" : \"1979\",\n",
    "            \"tc_sell\" : \"3140\",\n",
    "            \"tc_buy\" : \"3280\",\n",
    "            # \"reserv\" : \"19578\",\n",
    "            \"mil_count\" : \"3799\",\n",
    "            # \"mil_lapse\" : \"3801\"\n",
    "            # \"deuda\" : \"3745\"\n",
    "             }\n"
   ]
  },
  {
   "cell_type": "markdown",
   "metadata": {},
   "source": [
    "We do the calls"
   ]
  },
  {
   "cell_type": "code",
   "execution_count": 3,
   "metadata": {},
   "outputs": [],
   "source": [
    "api_varscall = {}\n",
    "for k, v in code_vars.items():\n",
    "  api_varscall[k] = cbk_data.api_call(var_code= v, start_date = \"01/01/1999\",\n",
    "                             end_date = current_time, type_exc = \"\", var_name = k)\n",
    "  api_varscall[k].params_bccr()\n",
    "  api_varscall[k].api_call()\n",
    "  api_varscall[k] = api_varscall[k].create_data()\n",
    "  api_varscall[k] = api_varscall[k].drop(columns='type').rename(columns={'bank' : 'variable'})"
   ]
  },
  {
   "cell_type": "markdown",
   "metadata": {},
   "source": [
    "We need to check the numbers of codes behind the call, because as we set the params with subhead codes, it would be some other codes that we don't want"
   ]
  },
  {
   "cell_type": "code",
   "execution_count": 4,
   "metadata": {},
   "outputs": [
    {
     "name": "stdout",
     "output_type": "stream",
     "text": [
      "The var is exp\n",
      "The numbers of rows are 283\n",
      "The numbers of codes are 1\n",
      "The las available year is: 2022\n",
      "The var is imp\n",
      "The numbers of rows are 283\n",
      "The numbers of codes are 1\n",
      "The las available year is: 2022\n",
      "The var is imae\n",
      "The numbers of rows are 13283\n",
      "The numbers of codes are 47\n",
      "The las available year is: 2022\n",
      "The var is tpm\n",
      "The numbers of rows are 5780\n",
      "The numbers of codes are 1\n",
      "The las available year is: 2022\n",
      "The var is monex_amount_mean\n",
      "The numbers of rows are 5403\n",
      "The numbers of codes are 1\n",
      "The las available year is: 2022\n",
      "The var is tc_monex\n",
      "The numbers of rows are 5403\n",
      "The numbers of codes are 1\n",
      "The las available year is: 2022\n",
      "The var is gold\n",
      "The numbers of rows are 6559\n",
      "The numbers of codes are 1\n",
      "The las available year is: 2022\n",
      "The var is tc_sell\n",
      "The numbers of rows are 5872\n",
      "The numbers of codes are 1\n",
      "The las available year is: 2022\n",
      "The var is tc_buy\n",
      "The numbers of rows are 5840\n",
      "The numbers of codes are 1\n",
      "The las available year is: 2022\n",
      "The var is mil_count\n",
      "The numbers of rows are 4786\n",
      "The numbers of codes are 1\n",
      "The las available year is: 2022\n"
     ]
    }
   ],
   "source": [
    "for k, v in code_vars.items():\n",
    "    current_dt = api_varscall[k]\n",
    "    lastav_year = np.max(pd.DatetimeIndex(current_dt.loc[:, \"date\"]).year)\n",
    "    print(f\"The var is {k}\")\n",
    "    print(f\"The numbers of rows are {current_dt.shape[0]}\")\n",
    "    print(f\"The numbers of codes are {len(api_varscall[k].loc[:, 'cod'].unique())}\")\n",
    "    print(f\"The las available year is: {lastav_year}\")"
   ]
  },
  {
   "cell_type": "markdown",
   "metadata": {},
   "source": [
    "There are more codes for imae, so we set only the 87703 code for IMAE"
   ]
  },
  {
   "cell_type": "code",
   "execution_count": 5,
   "metadata": {},
   "outputs": [],
   "source": [
    "api_varscall[\"imae\"] = api_varscall[\"imae\"].query(\"cod == 87703\")"
   ]
  },
  {
   "cell_type": "markdown",
   "metadata": {},
   "source": [
    "We store the data as an csv in raw"
   ]
  },
  {
   "cell_type": "code",
   "execution_count": 6,
   "metadata": {},
   "outputs": [],
   "source": [
    "data2save = pd.concat(api_varscall, ignore_index=True)\n",
    "outpath = Path.cwd().parent.joinpath(\"data\", \"raw_cbk.csv\")\n",
    "with outpath as e:\n",
    "    data2save.to_csv(e, index=False)"
   ]
  }
 ],
 "metadata": {
  "kernelspec": {
   "display_name": "Python 3.9.12 (conda)",
   "language": "python",
   "name": "python3"
  },
  "language_info": {
   "codemirror_mode": {
    "name": "ipython",
    "version": 3
   },
   "file_extension": ".py",
   "mimetype": "text/x-python",
   "name": "python",
   "nbconvert_exporter": "python",
   "pygments_lexer": "ipython3",
   "version": "3.9.12"
  },
  "orig_nbformat": 4,
  "vscode": {
   "interpreter": {
    "hash": "5eb01a626995ddc229fec98ea359c33dd14b348c4f2ca6a2e2f2d3cd68da3526"
   }
  }
 },
 "nbformat": 4,
 "nbformat_minor": 2
}
