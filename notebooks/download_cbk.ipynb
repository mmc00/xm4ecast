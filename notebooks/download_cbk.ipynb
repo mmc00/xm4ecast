{
 "cells": [
  {
   "cell_type": "markdown",
   "metadata": {},
   "source": [
    "## API Central Bank of Costa Rica\n",
    "\n",
    "The idea of this notebook is to extract data from the API of the Central Bank of Costa Rica. With this we can get the data for the model."
   ]
  },
  {
   "cell_type": "code",
   "execution_count": 31,
   "metadata": {},
   "outputs": [],
   "source": [
    "import requests\n",
    "import os\n",
    "import pandas as pd\n",
    "import numpy as np\n",
    "import time\n",
    "import sys\n",
    "from pathlib import Path\n",
    "sys.path.append('../')\n",
    "from src.data import cbk_data"
   ]
  },
  {
   "cell_type": "markdown",
   "metadata": {},
   "source": [
    "First we create the parametes for call"
   ]
  },
  {
   "cell_type": "code",
   "execution_count": 4,
   "metadata": {},
   "outputs": [],
   "source": [
    "url = \"https://gee.bccr.fi.cr/Indicadores/Suscripciones/WS/wsindicadoreseconomicos.asmx/ObtenerIndicadoresEconomicos?\"\n",
    "current_time = time.strftime(\"%d/%m/%Y\")\n",
    "params_bccr = {\n",
    "    \"Indicador\": \"3181\",\n",
    "    \"FechaInicio\": \"01/01/1999\",\n",
    "    \"FechaFinal\": current_time,\n",
    "    \"Nombre\": \"Marlon\",\n",
    "    \"Subniveles\": \"S\",\n",
    "    \"CorreoElectronico\": os.getenv(\"BCCR_USER\"),\n",
    "    \"Token\": os.getenv(\"BCCR_PASS\")\n",
    "}\n",
    "\n",
    "code_vars = {\n",
    "            \"exp\" : \"1992\",\n",
    "            \"imp\" : \"1993\",\n",
    "            \"imae\": \"87703\",\n",
    "            \"tpm\": \"3541\",\n",
    "            \"monex_amount_mean\" : \"3451\",\n",
    "            \"tc_monex\" : \"3438\",\n",
    "            \"gold\" : \"1979\",\n",
    "            \"tc_sell\" : \"3140\",\n",
    "            \"tc_buy\" : \"3280\",\n",
    "            # \"reserv\" : \"19578\",\n",
    "            \"mil_count\" : \"3799\",\n",
    "            # \"mil_lapse\" : \"3801\"\n",
    "            # \"deuda\" : \"3745\"\n",
    "             }\n"
   ]
  },
  {
   "cell_type": "markdown",
   "metadata": {},
   "source": [
    "We do the calls"
   ]
  },
  {
   "cell_type": "code",
   "execution_count": 5,
   "metadata": {},
   "outputs": [],
   "source": [
    "api_varscall = {}\n",
    "for k, v in code_vars.items():\n",
    "  api_varscall[k] = cbk_data.api_call(var_code= v, start_date = \"01/01/1999\",\n",
    "                             end_date = current_time, type_exc = \"\", var_name = k)\n",
    "  api_varscall[k].params_bccr()\n",
    "  api_varscall[k].api_call()\n",
    "  api_varscall[k] = api_varscall[k].create_data()\n",
    "  api_varscall[k] = api_varscall[k].drop(columns='type').rename(columns={'bank' : 'variable'})"
   ]
  },
  {
   "cell_type": "markdown",
   "metadata": {},
   "source": [
    "We need to check the numbers of codes behind the call, because as we set the params with subhead codes, it would be some other codes that we don't want"
   ]
  },
  {
   "cell_type": "code",
   "execution_count": 24,
   "metadata": {},
   "outputs": [
    {
     "name": "stdout",
     "output_type": "stream",
     "text": [
      "The var is exp\n",
      "The numbers of rows are 283\n",
      "The numbers of codes are 1\n",
      "The las available year is: 2022\n",
      "The var is imp\n",
      "The numbers of rows are 283\n",
      "The numbers of codes are 1\n",
      "The las available year is: 2022\n",
      "The var is imae\n",
      "The numbers of rows are 13237\n",
      "The numbers of codes are 47\n",
      "The las available year is: 2022\n",
      "The var is tpm\n",
      "The numbers of rows are 5756\n",
      "The numbers of codes are 1\n",
      "The las available year is: 2022\n",
      "The var is monex_amount_mean\n",
      "The numbers of rows are 5379\n",
      "The numbers of codes are 1\n",
      "The las available year is: 2022\n",
      "The var is tc_monex\n",
      "The numbers of rows are 5379\n",
      "The numbers of codes are 1\n",
      "The las available year is: 2022\n",
      "The var is gold\n",
      "The numbers of rows are 6535\n",
      "The numbers of codes are 1\n",
      "The las available year is: 2022\n",
      "The var is tc_sell\n",
      "The numbers of rows are 5846\n",
      "The numbers of codes are 1\n",
      "The las available year is: 2022\n",
      "The var is tc_buy\n",
      "The numbers of rows are 5814\n",
      "The numbers of codes are 1\n",
      "The las available year is: 2022\n",
      "The var is mil_count\n",
      "The numbers of rows are 4760\n",
      "The numbers of codes are 1\n",
      "The las available year is: 2022\n"
     ]
    }
   ],
   "source": [
    "for k, v in code_vars.items():\n",
    "    current_dt = api_varscall[k]\n",
    "    lastav_year = np.max(pd.DatetimeIndex(current_dt.loc[:, \"date\"]).year)\n",
    "    print(f\"The var is {k}\")\n",
    "    print(f\"The numbers of rows are {current_dt.shape[0]}\")\n",
    "    print(f\"The numbers of codes are {len(api_varscall[k].loc[:, 'cod'].unique())}\")\n",
    "    print(f\"The las available year is: {lastav_year}\")"
   ]
  },
  {
   "cell_type": "markdown",
   "metadata": {},
   "source": [
    "There are more codes for imae, so we set only the 87703 code for IMAE"
   ]
  },
  {
   "cell_type": "code",
   "execution_count": 27,
   "metadata": {},
   "outputs": [
    {
     "data": {
      "text/html": [
       "<div>\n",
       "<style scoped>\n",
       "    .dataframe tbody tr th:only-of-type {\n",
       "        vertical-align: middle;\n",
       "    }\n",
       "\n",
       "    .dataframe tbody tr th {\n",
       "        vertical-align: top;\n",
       "    }\n",
       "\n",
       "    .dataframe thead th {\n",
       "        text-align: right;\n",
       "    }\n",
       "</style>\n",
       "<table border=\"1\" class=\"dataframe\">\n",
       "  <thead>\n",
       "    <tr style=\"text-align: right;\">\n",
       "      <th></th>\n",
       "      <th>cod</th>\n",
       "      <th>date</th>\n",
       "      <th>value</th>\n",
       "      <th>var</th>\n",
       "    </tr>\n",
       "  </thead>\n",
       "  <tbody>\n",
       "    <tr>\n",
       "      <th>0</th>\n",
       "      <td>87703</td>\n",
       "      <td>1999-01-31T00:00:00-06:00</td>\n",
       "      <td>52.197280</td>\n",
       "      <td>imae</td>\n",
       "    </tr>\n",
       "    <tr>\n",
       "      <th>1</th>\n",
       "      <td>87703</td>\n",
       "      <td>1999-02-28T00:00:00-06:00</td>\n",
       "      <td>48.747353</td>\n",
       "      <td>imae</td>\n",
       "    </tr>\n",
       "    <tr>\n",
       "      <th>2</th>\n",
       "      <td>87703</td>\n",
       "      <td>1999-03-31T00:00:00-06:00</td>\n",
       "      <td>50.386924</td>\n",
       "      <td>imae</td>\n",
       "    </tr>\n",
       "    <tr>\n",
       "      <th>3</th>\n",
       "      <td>87703</td>\n",
       "      <td>1999-04-30T00:00:00-06:00</td>\n",
       "      <td>47.016367</td>\n",
       "      <td>imae</td>\n",
       "    </tr>\n",
       "    <tr>\n",
       "      <th>4</th>\n",
       "      <td>87703</td>\n",
       "      <td>1999-05-31T00:00:00-06:00</td>\n",
       "      <td>48.617007</td>\n",
       "      <td>imae</td>\n",
       "    </tr>\n",
       "    <tr>\n",
       "      <th>...</th>\n",
       "      <td>...</td>\n",
       "      <td>...</td>\n",
       "      <td>...</td>\n",
       "      <td>...</td>\n",
       "    </tr>\n",
       "    <tr>\n",
       "      <th>277</th>\n",
       "      <td>87703</td>\n",
       "      <td>2022-02-28T00:00:00-06:00</td>\n",
       "      <td>108.611735</td>\n",
       "      <td>imae</td>\n",
       "    </tr>\n",
       "    <tr>\n",
       "      <th>278</th>\n",
       "      <td>87703</td>\n",
       "      <td>2022-03-31T00:00:00-06:00</td>\n",
       "      <td>118.166052</td>\n",
       "      <td>imae</td>\n",
       "    </tr>\n",
       "    <tr>\n",
       "      <th>279</th>\n",
       "      <td>87703</td>\n",
       "      <td>2022-04-30T00:00:00-06:00</td>\n",
       "      <td>107.834739</td>\n",
       "      <td>imae</td>\n",
       "    </tr>\n",
       "    <tr>\n",
       "      <th>280</th>\n",
       "      <td>87703</td>\n",
       "      <td>2022-05-31T00:00:00-06:00</td>\n",
       "      <td>109.730103</td>\n",
       "      <td>imae</td>\n",
       "    </tr>\n",
       "    <tr>\n",
       "      <th>281</th>\n",
       "      <td>87703</td>\n",
       "      <td>2022-06-30T00:00:00-06:00</td>\n",
       "      <td>109.706778</td>\n",
       "      <td>imae</td>\n",
       "    </tr>\n",
       "  </tbody>\n",
       "</table>\n",
       "<p>282 rows × 4 columns</p>\n",
       "</div>"
      ],
      "text/plain": [
       "       cod                       date       value   var\n",
       "0    87703  1999-01-31T00:00:00-06:00   52.197280  imae\n",
       "1    87703  1999-02-28T00:00:00-06:00   48.747353  imae\n",
       "2    87703  1999-03-31T00:00:00-06:00   50.386924  imae\n",
       "3    87703  1999-04-30T00:00:00-06:00   47.016367  imae\n",
       "4    87703  1999-05-31T00:00:00-06:00   48.617007  imae\n",
       "..     ...                        ...         ...   ...\n",
       "277  87703  2022-02-28T00:00:00-06:00  108.611735  imae\n",
       "278  87703  2022-03-31T00:00:00-06:00  118.166052  imae\n",
       "279  87703  2022-04-30T00:00:00-06:00  107.834739  imae\n",
       "280  87703  2022-05-31T00:00:00-06:00  109.730103  imae\n",
       "281  87703  2022-06-30T00:00:00-06:00  109.706778  imae\n",
       "\n",
       "[282 rows x 4 columns]"
      ]
     },
     "execution_count": 27,
     "metadata": {},
     "output_type": "execute_result"
    }
   ],
   "source": [
    "api_varscall[\"imae\"] = api_varscall[\"imae\"].query(\"cod == 87703\")"
   ]
  },
  {
   "cell_type": "markdown",
   "metadata": {},
   "source": [
    "We store the data as an csv in raw"
   ]
  },
  {
   "cell_type": "code",
   "execution_count": 36,
   "metadata": {},
   "outputs": [],
   "source": [
    "data2save = pd.concat(api_varscall, ignore_index=True)\n",
    "outpath = Path.cwd().parent.joinpath(\"data\", \"raw_cbk.csv\")\n",
    "with outpath as e:\n",
    "    data2save.to_csv(e, index=False)"
   ]
  }
 ],
 "metadata": {
  "kernelspec": {
   "display_name": "Python 3.9.12 (conda)",
   "language": "python",
   "name": "python3"
  },
  "language_info": {
   "codemirror_mode": {
    "name": "ipython",
    "version": 3
   },
   "file_extension": ".py",
   "mimetype": "text/x-python",
   "name": "python",
   "nbconvert_exporter": "python",
   "pygments_lexer": "ipython3",
   "version": "3.9.12"
  },
  "orig_nbformat": 4,
  "vscode": {
   "interpreter": {
    "hash": "5eb01a626995ddc229fec98ea359c33dd14b348c4f2ca6a2e2f2d3cd68da3526"
   }
  }
 },
 "nbformat": 4,
 "nbformat_minor": 2
}
