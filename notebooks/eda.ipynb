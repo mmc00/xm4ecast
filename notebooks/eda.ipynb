{
 "cells": [
  {
   "cell_type": "code",
   "execution_count": 2,
   "metadata": {},
   "outputs": [
    {
     "name": "stderr",
     "output_type": "stream",
     "text": [
      "UsageError: Line magic function `%` not found.\n"
     ]
    }
   ],
   "source": [
    "import pandas as pd\n",
    "import numpy as np\n",
    "import matplotlib.pyplot as plt\n",
    "from pathlib import Path\n",
    "% matplotlib inline"
   ]
  },
  {
   "cell_type": "markdown",
   "metadata": {},
   "source": [
    "## EDA"
   ]
  },
  {
   "cell_type": "markdown",
   "metadata": {},
   "source": [
    "Loading the dataset"
   ]
  },
  {
   "cell_type": "code",
   "execution_count": 3,
   "metadata": {},
   "outputs": [
    {
     "data": {
      "text/html": [
       "<div>\n",
       "<style scoped>\n",
       "    .dataframe tbody tr th:only-of-type {\n",
       "        vertical-align: middle;\n",
       "    }\n",
       "\n",
       "    .dataframe tbody tr th {\n",
       "        vertical-align: top;\n",
       "    }\n",
       "\n",
       "    .dataframe thead th {\n",
       "        text-align: right;\n",
       "    }\n",
       "</style>\n",
       "<table border=\"1\" class=\"dataframe\">\n",
       "  <thead>\n",
       "    <tr style=\"text-align: right;\">\n",
       "      <th></th>\n",
       "      <th>year</th>\n",
       "      <th>month</th>\n",
       "      <th>var</th>\n",
       "      <th>value</th>\n",
       "    </tr>\n",
       "  </thead>\n",
       "  <tbody>\n",
       "    <tr>\n",
       "      <th>0</th>\n",
       "      <td>1999</td>\n",
       "      <td>1</td>\n",
       "      <td>imae</td>\n",
       "      <td>52.197280</td>\n",
       "    </tr>\n",
       "    <tr>\n",
       "      <th>1</th>\n",
       "      <td>1999</td>\n",
       "      <td>2</td>\n",
       "      <td>imae</td>\n",
       "      <td>48.747353</td>\n",
       "    </tr>\n",
       "    <tr>\n",
       "      <th>2</th>\n",
       "      <td>1999</td>\n",
       "      <td>3</td>\n",
       "      <td>imae</td>\n",
       "      <td>50.386924</td>\n",
       "    </tr>\n",
       "    <tr>\n",
       "      <th>3</th>\n",
       "      <td>1999</td>\n",
       "      <td>4</td>\n",
       "      <td>imae</td>\n",
       "      <td>47.016367</td>\n",
       "    </tr>\n",
       "    <tr>\n",
       "      <th>4</th>\n",
       "      <td>1999</td>\n",
       "      <td>5</td>\n",
       "      <td>imae</td>\n",
       "      <td>48.617007</td>\n",
       "    </tr>\n",
       "  </tbody>\n",
       "</table>\n",
       "</div>"
      ],
      "text/plain": [
       "   year  month   var      value\n",
       "0  1999      1  imae  52.197280\n",
       "1  1999      2  imae  48.747353\n",
       "2  1999      3  imae  50.386924\n",
       "3  1999      4  imae  47.016367\n",
       "4  1999      5  imae  48.617007"
      ]
     },
     "execution_count": 3,
     "metadata": {},
     "output_type": "execute_result"
    }
   ],
   "source": [
    "dataset = pd.read_csv(Path.cwd().parent.joinpath(\"data\", \"cleaned_data.csv\"))\n",
    "dataset.head()"
   ]
  },
  {
   "cell_type": "markdown",
   "metadata": {},
   "source": [
    " We transform it to wide format"
   ]
  },
  {
   "cell_type": "code",
   "execution_count": 4,
   "metadata": {},
   "outputs": [
    {
     "data": {
      "text/html": [
       "<div>\n",
       "<style scoped>\n",
       "    .dataframe tbody tr th:only-of-type {\n",
       "        vertical-align: middle;\n",
       "    }\n",
       "\n",
       "    .dataframe tbody tr th {\n",
       "        vertical-align: top;\n",
       "    }\n",
       "\n",
       "    .dataframe thead th {\n",
       "        text-align: right;\n",
       "    }\n",
       "</style>\n",
       "<table border=\"1\" class=\"dataframe\">\n",
       "  <thead>\n",
       "    <tr style=\"text-align: right;\">\n",
       "      <th>var</th>\n",
       "      <th>year</th>\n",
       "      <th>month</th>\n",
       "      <th>crude_oil_brent</th>\n",
       "      <th>crude_oil_wti</th>\n",
       "      <th>exp</th>\n",
       "      <th>gas_henry_hub</th>\n",
       "      <th>gold</th>\n",
       "      <th>imae</th>\n",
       "      <th>imp</th>\n",
       "      <th>mil_count</th>\n",
       "      <th>...</th>\n",
       "      <th>tc_monex</th>\n",
       "      <th>tc_sell</th>\n",
       "      <th>tpm</th>\n",
       "      <th>treasury1year</th>\n",
       "      <th>treasury3month</th>\n",
       "      <th>treasury4week</th>\n",
       "      <th>treasury6month</th>\n",
       "      <th>usdollar_euro</th>\n",
       "      <th>yuan_dollar_spot_tc</th>\n",
       "      <th>date</th>\n",
       "    </tr>\n",
       "  </thead>\n",
       "  <tbody>\n",
       "    <tr>\n",
       "      <th>0</th>\n",
       "      <td>1999</td>\n",
       "      <td>1</td>\n",
       "      <td>11.114500</td>\n",
       "      <td>12.514737</td>\n",
       "      <td>528.559625</td>\n",
       "      <td>1.849474</td>\n",
       "      <td>NaN</td>\n",
       "      <td>52.197280</td>\n",
       "      <td>539.682000</td>\n",
       "      <td>NaN</td>\n",
       "      <td>...</td>\n",
       "      <td>NaN</td>\n",
       "      <td>NaN</td>\n",
       "      <td>NaN</td>\n",
       "      <td>4.312105</td>\n",
       "      <td>4.335263</td>\n",
       "      <td>NaN</td>\n",
       "      <td>4.328947</td>\n",
       "      <td>1.159095</td>\n",
       "      <td>8.278921</td>\n",
       "      <td>1999-01-01</td>\n",
       "    </tr>\n",
       "    <tr>\n",
       "      <th>1</th>\n",
       "      <td>1999</td>\n",
       "      <td>2</td>\n",
       "      <td>10.271579</td>\n",
       "      <td>12.013684</td>\n",
       "      <td>572.454746</td>\n",
       "      <td>1.771053</td>\n",
       "      <td>NaN</td>\n",
       "      <td>48.747353</td>\n",
       "      <td>531.069894</td>\n",
       "      <td>NaN</td>\n",
       "      <td>...</td>\n",
       "      <td>NaN</td>\n",
       "      <td>NaN</td>\n",
       "      <td>NaN</td>\n",
       "      <td>4.478421</td>\n",
       "      <td>4.438421</td>\n",
       "      <td>NaN</td>\n",
       "      <td>4.441053</td>\n",
       "      <td>1.120279</td>\n",
       "      <td>8.278137</td>\n",
       "      <td>1999-02-01</td>\n",
       "    </tr>\n",
       "    <tr>\n",
       "      <th>2</th>\n",
       "      <td>1999</td>\n",
       "      <td>3</td>\n",
       "      <td>12.511304</td>\n",
       "      <td>14.676522</td>\n",
       "      <td>585.525887</td>\n",
       "      <td>1.791739</td>\n",
       "      <td>NaN</td>\n",
       "      <td>50.386924</td>\n",
       "      <td>599.843900</td>\n",
       "      <td>NaN</td>\n",
       "      <td>...</td>\n",
       "      <td>NaN</td>\n",
       "      <td>NaN</td>\n",
       "      <td>NaN</td>\n",
       "      <td>4.532609</td>\n",
       "      <td>4.440870</td>\n",
       "      <td>NaN</td>\n",
       "      <td>4.466957</td>\n",
       "      <td>1.088587</td>\n",
       "      <td>8.279152</td>\n",
       "      <td>1999-03-01</td>\n",
       "    </tr>\n",
       "    <tr>\n",
       "      <th>3</th>\n",
       "      <td>1999</td>\n",
       "      <td>4</td>\n",
       "      <td>15.294500</td>\n",
       "      <td>17.312381</td>\n",
       "      <td>628.716318</td>\n",
       "      <td>2.150000</td>\n",
       "      <td>NaN</td>\n",
       "      <td>47.016367</td>\n",
       "      <td>489.165203</td>\n",
       "      <td>NaN</td>\n",
       "      <td>...</td>\n",
       "      <td>NaN</td>\n",
       "      <td>NaN</td>\n",
       "      <td>NaN</td>\n",
       "      <td>4.450909</td>\n",
       "      <td>4.289545</td>\n",
       "      <td>NaN</td>\n",
       "      <td>4.371364</td>\n",
       "      <td>1.070050</td>\n",
       "      <td>8.279186</td>\n",
       "      <td>1999-04-01</td>\n",
       "    </tr>\n",
       "    <tr>\n",
       "      <th>4</th>\n",
       "      <td>1999</td>\n",
       "      <td>5</td>\n",
       "      <td>15.225263</td>\n",
       "      <td>17.718500</td>\n",
       "      <td>554.241723</td>\n",
       "      <td>2.260000</td>\n",
       "      <td>NaN</td>\n",
       "      <td>48.617007</td>\n",
       "      <td>518.387293</td>\n",
       "      <td>NaN</td>\n",
       "      <td>...</td>\n",
       "      <td>NaN</td>\n",
       "      <td>NaN</td>\n",
       "      <td>NaN</td>\n",
       "      <td>4.597000</td>\n",
       "      <td>4.498500</td>\n",
       "      <td>NaN</td>\n",
       "      <td>4.559000</td>\n",
       "      <td>1.063005</td>\n",
       "      <td>8.278535</td>\n",
       "      <td>1999-05-01</td>\n",
       "    </tr>\n",
       "  </tbody>\n",
       "</table>\n",
       "<p>5 rows × 23 columns</p>\n",
       "</div>"
      ],
      "text/plain": [
       "var  year  month  crude_oil_brent  crude_oil_wti         exp  gas_henry_hub  \\\n",
       "0    1999      1        11.114500      12.514737  528.559625       1.849474   \n",
       "1    1999      2        10.271579      12.013684  572.454746       1.771053   \n",
       "2    1999      3        12.511304      14.676522  585.525887       1.791739   \n",
       "3    1999      4        15.294500      17.312381  628.716318       2.150000   \n",
       "4    1999      5        15.225263      17.718500  554.241723       2.260000   \n",
       "\n",
       "var  gold       imae         imp  mil_count  ...  tc_monex  tc_sell  tpm  \\\n",
       "0     NaN  52.197280  539.682000        NaN  ...       NaN      NaN  NaN   \n",
       "1     NaN  48.747353  531.069894        NaN  ...       NaN      NaN  NaN   \n",
       "2     NaN  50.386924  599.843900        NaN  ...       NaN      NaN  NaN   \n",
       "3     NaN  47.016367  489.165203        NaN  ...       NaN      NaN  NaN   \n",
       "4     NaN  48.617007  518.387293        NaN  ...       NaN      NaN  NaN   \n",
       "\n",
       "var  treasury1year  treasury3month  treasury4week  treasury6month  \\\n",
       "0         4.312105        4.335263            NaN        4.328947   \n",
       "1         4.478421        4.438421            NaN        4.441053   \n",
       "2         4.532609        4.440870            NaN        4.466957   \n",
       "3         4.450909        4.289545            NaN        4.371364   \n",
       "4         4.597000        4.498500            NaN        4.559000   \n",
       "\n",
       "var  usdollar_euro  yuan_dollar_spot_tc       date  \n",
       "0         1.159095             8.278921 1999-01-01  \n",
       "1         1.120279             8.278137 1999-02-01  \n",
       "2         1.088587             8.279152 1999-03-01  \n",
       "3         1.070050             8.279186 1999-04-01  \n",
       "4         1.063005             8.278535 1999-05-01  \n",
       "\n",
       "[5 rows x 23 columns]"
      ]
     },
     "execution_count": 4,
     "metadata": {},
     "output_type": "execute_result"
    }
   ],
   "source": [
    "dataset_wide = pd.pivot(dataset, index=[\"year\", \"month\"], columns='var', values='value').reset_index()\n",
    "dataset_wide.loc[:, \"date\"] = dataset_wide.loc[:, \"year\"].astype(str) + \"-\" + dataset_wide.loc[:, \"month\"].astype(str)\n",
    "dataset_wide.loc[:, \"date\"] = pd.to_datetime(dataset_wide.loc[:, \"date\"] )\n",
    "dataset_wide.head()"
   ]
  },
  {
   "cell_type": "markdown",
   "metadata": {},
   "source": [
    "The shape"
   ]
  },
  {
   "cell_type": "code",
   "execution_count": 5,
   "metadata": {},
   "outputs": [
    {
     "data": {
      "text/plain": [
       "(285, 23)"
      ]
     },
     "execution_count": 5,
     "metadata": {},
     "output_type": "execute_result"
    }
   ],
   "source": [
    "dataset_wide.shape"
   ]
  },
  {
   "cell_type": "markdown",
   "metadata": {},
   "source": [
    "### plots\n",
    "\n",
    "First the exports and imports flows. We can see to moments with a big drop, the recession and the covid"
   ]
  },
  {
   "cell_type": "code",
   "execution_count": 6,
   "metadata": {},
   "outputs": [
    {
     "data": {
      "image/png": "[encoded data removed]",
      "text/plain": [
       "<Figure size 432x288 with 1 Axes>"
      ]
     },
     "metadata": {
      "needs_background": "light"
     },
     "output_type": "display_data"
    }
   ],
   "source": [
    "plt.title(\"Exports and Imports plot\")\n",
    "dataset_wide.set_index(\"date\")[\"exp\"].plot()\n",
    "dataset_wide.set_index(\"date\")[\"imp\"].plot()\n",
    "plt.show()"
   ]
  },
  {
   "cell_type": "markdown",
   "metadata": {},
   "source": [
    "The gasoline and oil vars"
   ]
  },
  {
   "cell_type": "code",
   "execution_count": 7,
   "metadata": {},
   "outputs": [
    {
     "data": {
      "image/png": "[encoded data removed]",
      "text/plain": [
       "<Figure size 432x288 with 1 Axes>"
      ]
     },
     "metadata": {
      "needs_background": "light"
     },
     "output_type": "display_data"
    }
   ],
   "source": [
    "plt.title(\"oil and gas\")\n",
    "dataset_wide.set_index(\"date\")[\"crude_oil_brent\"].plot()\n",
    "dataset_wide.set_index(\"date\")[\"crude_oil_wti\"].plot()\n",
    "dataset_wide.set_index(\"date\")[\"gas_henry_hub\"].plot()\n",
    "plt.show()"
   ]
  },
  {
   "cell_type": "markdown",
   "metadata": {},
   "source": [
    "treasure variables"
   ]
  },
  {
   "cell_type": "code",
   "execution_count": 8,
   "metadata": {},
   "outputs": [
    {
     "data": {
      "image/png": "[encoded data removed]",
      "text/plain": [
       "<Figure size 432x288 with 1 Axes>"
      ]
     },
     "metadata": {
      "needs_background": "light"
     },
     "output_type": "display_data"
    }
   ],
   "source": [
    "plt.title(\"treasure variables\")\n",
    "dataset_wide.set_index(\"date\")[\"treasury1year\"].plot()\n",
    "dataset_wide.set_index(\"date\")[\"treasury3month\"].plot()\n",
    "dataset_wide.set_index(\"date\")[\"treasury6month\"].plot()\n",
    "plt.show()"
   ]
  },
  {
   "cell_type": "markdown",
   "metadata": {},
   "source": [
    "As they are, basically, equals we select only the 3 month frecuency"
   ]
  },
  {
   "cell_type": "markdown",
   "metadata": {},
   "source": [
    "Let check for the Nans"
   ]
  },
  {
   "cell_type": "code",
   "execution_count": 9,
   "metadata": {},
   "outputs": [
    {
     "data": {
      "text/plain": [
       "var\n",
       "year                        0\n",
       "month                       0\n",
       "crude_oil_brent             0\n",
       "crude_oil_wti               0\n",
       "exp                         2\n",
       "gas_henry_hub               0\n",
       "gold                       68\n",
       "imae                        2\n",
       "imp                         2\n",
       "mil_count                 127\n",
       "monex_amount_mean         107\n",
       "nominal_broad_usdollar     84\n",
       "tc_buy                     92\n",
       "tc_monex                  107\n",
       "tc_sell                    91\n",
       "tpm                        86\n",
       "treasury1year              79\n",
       "treasury3month              0\n",
       "treasury4week              30\n",
       "treasury6month              0\n",
       "usdollar_euro               0\n",
       "yuan_dollar_spot_tc         0\n",
       "date                        0\n",
       "dtype: int64"
      ]
     },
     "execution_count": 9,
     "metadata": {},
     "output_type": "execute_result"
    }
   ],
   "source": [
    "dataset_wide.isna().sum()"
   ]
  },
  {
   "cell_type": "markdown",
   "metadata": {},
   "source": [
    "The last two months of exp are nan"
   ]
  },
  {
   "cell_type": "code",
   "execution_count": 15,
   "metadata": {},
   "outputs": [
    {
     "data": {
      "text/html": [
       "<div>\n",
       "<style scoped>\n",
       "    .dataframe tbody tr th:only-of-type {\n",
       "        vertical-align: middle;\n",
       "    }\n",
       "\n",
       "    .dataframe tbody tr th {\n",
       "        vertical-align: top;\n",
       "    }\n",
       "\n",
       "    .dataframe thead th {\n",
       "        text-align: right;\n",
       "    }\n",
       "</style>\n",
       "<table border=\"1\" class=\"dataframe\">\n",
       "  <thead>\n",
       "    <tr style=\"text-align: right;\">\n",
       "      <th>var</th>\n",
       "      <th>exp</th>\n",
       "    </tr>\n",
       "    <tr>\n",
       "      <th>date</th>\n",
       "      <th></th>\n",
       "    </tr>\n",
       "  </thead>\n",
       "  <tbody>\n",
       "    <tr>\n",
       "      <th>1999-01-01</th>\n",
       "      <td>False</td>\n",
       "    </tr>\n",
       "    <tr>\n",
       "      <th>1999-02-01</th>\n",
       "      <td>False</td>\n",
       "    </tr>\n",
       "    <tr>\n",
       "      <th>1999-03-01</th>\n",
       "      <td>False</td>\n",
       "    </tr>\n",
       "    <tr>\n",
       "      <th>1999-04-01</th>\n",
       "      <td>False</td>\n",
       "    </tr>\n",
       "    <tr>\n",
       "      <th>1999-05-01</th>\n",
       "      <td>False</td>\n",
       "    </tr>\n",
       "    <tr>\n",
       "      <th>...</th>\n",
       "      <td>...</td>\n",
       "    </tr>\n",
       "    <tr>\n",
       "      <th>2022-05-01</th>\n",
       "      <td>False</td>\n",
       "    </tr>\n",
       "    <tr>\n",
       "      <th>2022-06-01</th>\n",
       "      <td>False</td>\n",
       "    </tr>\n",
       "    <tr>\n",
       "      <th>2022-07-01</th>\n",
       "      <td>False</td>\n",
       "    </tr>\n",
       "    <tr>\n",
       "      <th>2022-08-01</th>\n",
       "      <td>True</td>\n",
       "    </tr>\n",
       "    <tr>\n",
       "      <th>2022-09-01</th>\n",
       "      <td>True</td>\n",
       "    </tr>\n",
       "  </tbody>\n",
       "</table>\n",
       "<p>285 rows × 1 columns</p>\n",
       "</div>"
      ],
      "text/plain": [
       "var           exp\n",
       "date             \n",
       "1999-01-01  False\n",
       "1999-02-01  False\n",
       "1999-03-01  False\n",
       "1999-04-01  False\n",
       "1999-05-01  False\n",
       "...           ...\n",
       "2022-05-01  False\n",
       "2022-06-01  False\n",
       "2022-07-01  False\n",
       "2022-08-01   True\n",
       "2022-09-01   True\n",
       "\n",
       "[285 rows x 1 columns]"
      ]
     },
     "execution_count": 15,
     "metadata": {},
     "output_type": "execute_result"
    }
   ],
   "source": [
    "dataset_wide.set_index(\"date\").loc[:, [\"exp\"]].isna()"
   ]
  },
  {
   "cell_type": "markdown",
   "metadata": {},
   "source": [
    "We create our finally dataset in wide format, with the log of exp as the first column"
   ]
  },
  {
   "cell_type": "code",
   "execution_count": 20,
   "metadata": {},
   "outputs": [
    {
     "data": {
      "text/html": [
       "<div>\n",
       "<style scoped>\n",
       "    .dataframe tbody tr th:only-of-type {\n",
       "        vertical-align: middle;\n",
       "    }\n",
       "\n",
       "    .dataframe tbody tr th {\n",
       "        vertical-align: top;\n",
       "    }\n",
       "\n",
       "    .dataframe thead th {\n",
       "        text-align: right;\n",
       "    }\n",
       "</style>\n",
       "<table border=\"1\" class=\"dataframe\">\n",
       "  <thead>\n",
       "    <tr style=\"text-align: right;\">\n",
       "      <th>var</th>\n",
       "      <th>date</th>\n",
       "      <th>exp</th>\n",
       "      <th>imp</th>\n",
       "      <th>imae</th>\n",
       "      <th>crude_oil_brent</th>\n",
       "      <th>gas_henry_hub</th>\n",
       "      <th>treasury3month</th>\n",
       "      <th>yuan_dollar_spot_tc</th>\n",
       "      <th>year</th>\n",
       "      <th>month</th>\n",
       "    </tr>\n",
       "  </thead>\n",
       "  <tbody>\n",
       "    <tr>\n",
       "      <th>0</th>\n",
       "      <td>1999-01-01</td>\n",
       "      <td>528.559625</td>\n",
       "      <td>539.682000</td>\n",
       "      <td>52.197280</td>\n",
       "      <td>11.114500</td>\n",
       "      <td>1.849474</td>\n",
       "      <td>4.335263</td>\n",
       "      <td>8.278921</td>\n",
       "      <td>1999</td>\n",
       "      <td>1</td>\n",
       "    </tr>\n",
       "    <tr>\n",
       "      <th>1</th>\n",
       "      <td>1999-02-01</td>\n",
       "      <td>572.454746</td>\n",
       "      <td>531.069894</td>\n",
       "      <td>48.747353</td>\n",
       "      <td>10.271579</td>\n",
       "      <td>1.771053</td>\n",
       "      <td>4.438421</td>\n",
       "      <td>8.278137</td>\n",
       "      <td>1999</td>\n",
       "      <td>2</td>\n",
       "    </tr>\n",
       "    <tr>\n",
       "      <th>2</th>\n",
       "      <td>1999-03-01</td>\n",
       "      <td>585.525887</td>\n",
       "      <td>599.843900</td>\n",
       "      <td>50.386924</td>\n",
       "      <td>12.511304</td>\n",
       "      <td>1.791739</td>\n",
       "      <td>4.440870</td>\n",
       "      <td>8.279152</td>\n",
       "      <td>1999</td>\n",
       "      <td>3</td>\n",
       "    </tr>\n",
       "    <tr>\n",
       "      <th>3</th>\n",
       "      <td>1999-04-01</td>\n",
       "      <td>628.716318</td>\n",
       "      <td>489.165203</td>\n",
       "      <td>47.016367</td>\n",
       "      <td>15.294500</td>\n",
       "      <td>2.150000</td>\n",
       "      <td>4.289545</td>\n",
       "      <td>8.279186</td>\n",
       "      <td>1999</td>\n",
       "      <td>4</td>\n",
       "    </tr>\n",
       "    <tr>\n",
       "      <th>4</th>\n",
       "      <td>1999-05-01</td>\n",
       "      <td>554.241723</td>\n",
       "      <td>518.387293</td>\n",
       "      <td>48.617007</td>\n",
       "      <td>15.225263</td>\n",
       "      <td>2.260000</td>\n",
       "      <td>4.498500</td>\n",
       "      <td>8.278535</td>\n",
       "      <td>1999</td>\n",
       "      <td>5</td>\n",
       "    </tr>\n",
       "    <tr>\n",
       "      <th>...</th>\n",
       "      <td>...</td>\n",
       "      <td>...</td>\n",
       "      <td>...</td>\n",
       "      <td>...</td>\n",
       "      <td>...</td>\n",
       "      <td>...</td>\n",
       "      <td>...</td>\n",
       "      <td>...</td>\n",
       "      <td>...</td>\n",
       "      <td>...</td>\n",
       "    </tr>\n",
       "    <tr>\n",
       "      <th>280</th>\n",
       "      <td>2022-05-01</td>\n",
       "      <td>1428.113760</td>\n",
       "      <td>1694.630314</td>\n",
       "      <td>110.021136</td>\n",
       "      <td>113.337619</td>\n",
       "      <td>8.144762</td>\n",
       "      <td>0.983333</td>\n",
       "      <td>6.698957</td>\n",
       "      <td>2022</td>\n",
       "      <td>5</td>\n",
       "    </tr>\n",
       "    <tr>\n",
       "      <th>281</th>\n",
       "      <td>2022-06-01</td>\n",
       "      <td>1363.141884</td>\n",
       "      <td>1767.376705</td>\n",
       "      <td>110.299335</td>\n",
       "      <td>122.710952</td>\n",
       "      <td>7.703333</td>\n",
       "      <td>1.494762</td>\n",
       "      <td>6.695190</td>\n",
       "      <td>2022</td>\n",
       "      <td>6</td>\n",
       "    </tr>\n",
       "    <tr>\n",
       "      <th>282</th>\n",
       "      <td>2022-07-01</td>\n",
       "      <td>1294.293181</td>\n",
       "      <td>1789.115105</td>\n",
       "      <td>108.781981</td>\n",
       "      <td>111.925714</td>\n",
       "      <td>7.284500</td>\n",
       "      <td>2.232500</td>\n",
       "      <td>6.735155</td>\n",
       "      <td>2022</td>\n",
       "      <td>7</td>\n",
       "    </tr>\n",
       "    <tr>\n",
       "      <th>283</th>\n",
       "      <td>2022-08-01</td>\n",
       "      <td>NaN</td>\n",
       "      <td>NaN</td>\n",
       "      <td>NaN</td>\n",
       "      <td>100.446364</td>\n",
       "      <td>8.805652</td>\n",
       "      <td>2.630870</td>\n",
       "      <td>6.800678</td>\n",
       "      <td>2022</td>\n",
       "      <td>8</td>\n",
       "    </tr>\n",
       "    <tr>\n",
       "      <th>284</th>\n",
       "      <td>2022-09-01</td>\n",
       "      <td>NaN</td>\n",
       "      <td>NaN</td>\n",
       "      <td>NaN</td>\n",
       "      <td>91.366250</td>\n",
       "      <td>8.558750</td>\n",
       "      <td>2.987500</td>\n",
       "      <td>6.933917</td>\n",
       "      <td>2022</td>\n",
       "      <td>9</td>\n",
       "    </tr>\n",
       "  </tbody>\n",
       "</table>\n",
       "<p>285 rows × 10 columns</p>\n",
       "</div>"
      ],
      "text/plain": [
       "var       date          exp          imp        imae  crude_oil_brent  \\\n",
       "0   1999-01-01   528.559625   539.682000   52.197280        11.114500   \n",
       "1   1999-02-01   572.454746   531.069894   48.747353        10.271579   \n",
       "2   1999-03-01   585.525887   599.843900   50.386924        12.511304   \n",
       "3   1999-04-01   628.716318   489.165203   47.016367        15.294500   \n",
       "4   1999-05-01   554.241723   518.387293   48.617007        15.225263   \n",
       "..         ...          ...          ...         ...              ...   \n",
       "280 2022-05-01  1428.113760  1694.630314  110.021136       113.337619   \n",
       "281 2022-06-01  1363.141884  1767.376705  110.299335       122.710952   \n",
       "282 2022-07-01  1294.293181  1789.115105  108.781981       111.925714   \n",
       "283 2022-08-01          NaN          NaN         NaN       100.446364   \n",
       "284 2022-09-01          NaN          NaN         NaN        91.366250   \n",
       "\n",
       "var  gas_henry_hub  treasury3month  yuan_dollar_spot_tc  year  month  \n",
       "0         1.849474        4.335263             8.278921  1999      1  \n",
       "1         1.771053        4.438421             8.278137  1999      2  \n",
       "2         1.791739        4.440870             8.279152  1999      3  \n",
       "3         2.150000        4.289545             8.279186  1999      4  \n",
       "4         2.260000        4.498500             8.278535  1999      5  \n",
       "..             ...             ...                  ...   ...    ...  \n",
       "280       8.144762        0.983333             6.698957  2022      5  \n",
       "281       7.703333        1.494762             6.695190  2022      6  \n",
       "282       7.284500        2.232500             6.735155  2022      7  \n",
       "283       8.805652        2.630870             6.800678  2022      8  \n",
       "284       8.558750        2.987500             6.933917  2022      9  \n",
       "\n",
       "[285 rows x 10 columns]"
      ]
     },
     "execution_count": 20,
     "metadata": {},
     "output_type": "execute_result"
    }
   ],
   "source": [
    "final_dataset = dataset_wide.loc[:, [\"date\", \"exp\", \"imp\", \"imae\", \"crude_oil_brent\", \"gas_henry_hub\", \"treasury3month\", \"yuan_dollar_spot_tc\", \"year\", \"month\"]]\n",
    "final_dataset"
   ]
  },
  {
   "cell_type": "markdown",
   "metadata": {},
   "source": [
    "we split the data into log form for exp and imp"
   ]
  },
  {
   "cell_type": "code",
   "execution_count": 21,
   "metadata": {},
   "outputs": [],
   "source": [
    "final_dataset1 = final_dataset"
   ]
  },
  {
   "cell_type": "code",
   "execution_count": 22,
   "metadata": {},
   "outputs": [],
   "source": [
    "final_dataset2 = final_dataset.assign(exp=lambda x: np.log(x[\"exp\"]),\n",
    "                                      imp=lambda x: np.log(x[\"imp\"]))"
   ]
  },
  {
   "cell_type": "markdown",
   "metadata": {},
   "source": [
    "We save both"
   ]
  },
  {
   "cell_type": "code",
   "execution_count": 25,
   "metadata": {},
   "outputs": [],
   "source": [
    "with Path.cwd().parent.joinpath(\"input\", \"data4x_norm.csv\") as e:\n",
    "    final_dataset1.to_csv(e, index=False)\n",
    "with Path.cwd().parent.joinpath(\"input\", \"data4x_log.csv\") as e:\n",
    "    final_dataset2.to_csv(e, index=False)"
   ]
  }
 ],
 "metadata": {
  "kernelspec": {
   "display_name": "Python 3.9.12 (conda)",
   "language": "python",
   "name": "python3"
  },
  "language_info": {
   "codemirror_mode": {
    "name": "ipython",
    "version": 3
   },
   "file_extension": ".py",
   "mimetype": "text/x-python",
   "name": "python",
   "nbconvert_exporter": "python",
   "pygments_lexer": "ipython3",
   "version": "3.9.12"
  },
  "orig_nbformat": 4,
  "vscode": {
   "interpreter": {
    "hash": "5eb01a626995ddc229fec98ea359c33dd14b348c4f2ca6a2e2f2d3cd68da3526"
   }
  }
 },
 "nbformat": 4,
 "nbformat_minor": 2
}
