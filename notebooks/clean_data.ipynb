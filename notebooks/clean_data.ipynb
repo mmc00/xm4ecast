{
 "cells": [
  {
   "cell_type": "code",
   "execution_count": 12,
   "metadata": {},
   "outputs": [],
   "source": [
    "from pathlib import Path\n",
    "import pandas as pd\n",
    "import numpy as np\n",
    "import sys\n",
    "sys.path.append('../')\n",
    "from src.data import cbk_data"
   ]
  },
  {
   "cell_type": "markdown",
   "metadata": {},
   "source": [
    "## Cleaning and exporting the data"
   ]
  },
  {
   "cell_type": "markdown",
   "metadata": {},
   "source": [
    "We hve four sources of data that we need to clean and consolidate into one to be added in an posibble s3 file. "
   ]
  },
  {
   "cell_type": "code",
   "execution_count": 13,
   "metadata": {},
   "outputs": [],
   "source": [
    "files_types = {\"cbk\" : \"csv\", \"fred\" : \"csv\"}\n",
    "# files_types = {\"cbk\" : \"csv\", \"fred\" : \"csv\", \"m\" : \"xls\", \"x\" : \"xls\"}"
   ]
  },
  {
   "cell_type": "markdown",
   "metadata": {},
   "source": [
    "We read the data"
   ]
  },
  {
   "cell_type": "code",
   "execution_count": 14,
   "metadata": {},
   "outputs": [],
   "source": [
    "raw_data = {}\n",
    "for k, v in files_types.items():\n",
    "    if v == \"xls\":\n",
    "        raw_data[k] = pd.read_excel(Path.cwd().parent.joinpath(\"data\", \"raw_\" + k + \".\" + v))\n",
    "    else:\n",
    "        raw_data[k] = pd.read_csv(Path.cwd().parent.joinpath(\"data\", \"raw_\" + k + \".\" + v))"
   ]
  },
  {
   "cell_type": "markdown",
   "metadata": {},
   "source": [
    "We explore the data"
   ]
  },
  {
   "cell_type": "code",
   "execution_count": 15,
   "metadata": {},
   "outputs": [
    {
     "data": {
      "text/html": [
       "<div>\n",
       "<style scoped>\n",
       "    .dataframe tbody tr th:only-of-type {\n",
       "        vertical-align: middle;\n",
       "    }\n",
       "\n",
       "    .dataframe tbody tr th {\n",
       "        vertical-align: top;\n",
       "    }\n",
       "\n",
       "    .dataframe thead th {\n",
       "        text-align: right;\n",
       "    }\n",
       "</style>\n",
       "<table border=\"1\" class=\"dataframe\">\n",
       "  <thead>\n",
       "    <tr style=\"text-align: right;\">\n",
       "      <th></th>\n",
       "      <th>cod</th>\n",
       "      <th>date</th>\n",
       "      <th>value</th>\n",
       "      <th>var</th>\n",
       "    </tr>\n",
       "  </thead>\n",
       "  <tbody>\n",
       "    <tr>\n",
       "      <th>0</th>\n",
       "      <td>1992</td>\n",
       "      <td>1999-01-31T00:00:00-06:00</td>\n",
       "      <td>528.559625</td>\n",
       "      <td>exp</td>\n",
       "    </tr>\n",
       "    <tr>\n",
       "      <th>1</th>\n",
       "      <td>1992</td>\n",
       "      <td>1999-02-28T00:00:00-06:00</td>\n",
       "      <td>1101.014371</td>\n",
       "      <td>exp</td>\n",
       "    </tr>\n",
       "    <tr>\n",
       "      <th>2</th>\n",
       "      <td>1992</td>\n",
       "      <td>1999-03-31T00:00:00-06:00</td>\n",
       "      <td>1686.540258</td>\n",
       "      <td>exp</td>\n",
       "    </tr>\n",
       "    <tr>\n",
       "      <th>3</th>\n",
       "      <td>1992</td>\n",
       "      <td>1999-04-30T00:00:00-06:00</td>\n",
       "      <td>2315.256577</td>\n",
       "      <td>exp</td>\n",
       "    </tr>\n",
       "    <tr>\n",
       "      <th>4</th>\n",
       "      <td>1992</td>\n",
       "      <td>1999-05-31T00:00:00-06:00</td>\n",
       "      <td>2869.498299</td>\n",
       "      <td>exp</td>\n",
       "    </tr>\n",
       "    <tr>\n",
       "      <th>...</th>\n",
       "      <td>...</td>\n",
       "      <td>...</td>\n",
       "      <td>...</td>\n",
       "      <td>...</td>\n",
       "    </tr>\n",
       "    <tr>\n",
       "      <th>40487</th>\n",
       "      <td>3799</td>\n",
       "      <td>2022-09-10T00:00:00-06:00</td>\n",
       "      <td>NaN</td>\n",
       "      <td>mil_count</td>\n",
       "    </tr>\n",
       "    <tr>\n",
       "      <th>40488</th>\n",
       "      <td>3799</td>\n",
       "      <td>2022-09-11T00:00:00-06:00</td>\n",
       "      <td>NaN</td>\n",
       "      <td>mil_count</td>\n",
       "    </tr>\n",
       "    <tr>\n",
       "      <th>40489</th>\n",
       "      <td>3799</td>\n",
       "      <td>2022-09-12T00:00:00-06:00</td>\n",
       "      <td>17.000000</td>\n",
       "      <td>mil_count</td>\n",
       "    </tr>\n",
       "    <tr>\n",
       "      <th>40490</th>\n",
       "      <td>3799</td>\n",
       "      <td>2022-09-13T00:00:00-06:00</td>\n",
       "      <td>15.000000</td>\n",
       "      <td>mil_count</td>\n",
       "    </tr>\n",
       "    <tr>\n",
       "      <th>40491</th>\n",
       "      <td>3799</td>\n",
       "      <td>2022-09-14T00:00:00-06:00</td>\n",
       "      <td>19.000000</td>\n",
       "      <td>mil_count</td>\n",
       "    </tr>\n",
       "  </tbody>\n",
       "</table>\n",
       "<p>40492 rows × 4 columns</p>\n",
       "</div>"
      ],
      "text/plain": [
       "        cod                       date        value        var\n",
       "0      1992  1999-01-31T00:00:00-06:00   528.559625        exp\n",
       "1      1992  1999-02-28T00:00:00-06:00  1101.014371        exp\n",
       "2      1992  1999-03-31T00:00:00-06:00  1686.540258        exp\n",
       "3      1992  1999-04-30T00:00:00-06:00  2315.256577        exp\n",
       "4      1992  1999-05-31T00:00:00-06:00  2869.498299        exp\n",
       "...     ...                        ...          ...        ...\n",
       "40487  3799  2022-09-10T00:00:00-06:00          NaN  mil_count\n",
       "40488  3799  2022-09-11T00:00:00-06:00          NaN  mil_count\n",
       "40489  3799  2022-09-12T00:00:00-06:00    17.000000  mil_count\n",
       "40490  3799  2022-09-13T00:00:00-06:00    15.000000  mil_count\n",
       "40491  3799  2022-09-14T00:00:00-06:00    19.000000  mil_count\n",
       "\n",
       "[40492 rows x 4 columns]"
      ]
     },
     "execution_count": 15,
     "metadata": {},
     "output_type": "execute_result"
    }
   ],
   "source": [
    "raw_data[\"cbk\"]"
   ]
  },
  {
   "cell_type": "code",
   "execution_count": 16,
   "metadata": {},
   "outputs": [
    {
     "data": {
      "text/html": [
       "<div>\n",
       "<style scoped>\n",
       "    .dataframe tbody tr th:only-of-type {\n",
       "        vertical-align: middle;\n",
       "    }\n",
       "\n",
       "    .dataframe tbody tr th {\n",
       "        vertical-align: top;\n",
       "    }\n",
       "\n",
       "    .dataframe thead th {\n",
       "        text-align: right;\n",
       "    }\n",
       "</style>\n",
       "<table border=\"1\" class=\"dataframe\">\n",
       "  <thead>\n",
       "    <tr style=\"text-align: right;\">\n",
       "      <th></th>\n",
       "      <th>date</th>\n",
       "      <th>value</th>\n",
       "      <th>var</th>\n",
       "    </tr>\n",
       "  </thead>\n",
       "  <tbody>\n",
       "    <tr>\n",
       "      <th>0</th>\n",
       "      <td>1986-01-02</td>\n",
       "      <td>25.56</td>\n",
       "      <td>crude_oil_wti</td>\n",
       "    </tr>\n",
       "    <tr>\n",
       "      <th>1</th>\n",
       "      <td>1986-01-03</td>\n",
       "      <td>26.00</td>\n",
       "      <td>crude_oil_wti</td>\n",
       "    </tr>\n",
       "    <tr>\n",
       "      <th>2</th>\n",
       "      <td>1986-01-06</td>\n",
       "      <td>26.53</td>\n",
       "      <td>crude_oil_wti</td>\n",
       "    </tr>\n",
       "    <tr>\n",
       "      <th>3</th>\n",
       "      <td>1986-01-07</td>\n",
       "      <td>25.85</td>\n",
       "      <td>crude_oil_wti</td>\n",
       "    </tr>\n",
       "    <tr>\n",
       "      <th>4</th>\n",
       "      <td>1986-01-08</td>\n",
       "      <td>25.87</td>\n",
       "      <td>crude_oil_wti</td>\n",
       "    </tr>\n",
       "    <tr>\n",
       "      <th>...</th>\n",
       "      <td>...</td>\n",
       "      <td>...</td>\n",
       "      <td>...</td>\n",
       "    </tr>\n",
       "    <tr>\n",
       "      <th>106187</th>\n",
       "      <td>2022-05-01</td>\n",
       "      <td>340385.00</td>\n",
       "      <td>usa_m</td>\n",
       "    </tr>\n",
       "    <tr>\n",
       "      <th>106188</th>\n",
       "      <td>2022-06-01</td>\n",
       "      <td>339642.00</td>\n",
       "      <td>usa_m</td>\n",
       "    </tr>\n",
       "    <tr>\n",
       "      <th>106189</th>\n",
       "      <td>2022-07-01</td>\n",
       "      <td>330040.00</td>\n",
       "      <td>usa_m</td>\n",
       "    </tr>\n",
       "    <tr>\n",
       "      <th>106190</th>\n",
       "      <td>2022-08-01</td>\n",
       "      <td>326472.00</td>\n",
       "      <td>usa_m</td>\n",
       "    </tr>\n",
       "    <tr>\n",
       "      <th>106191</th>\n",
       "      <td>2022-09-01</td>\n",
       "      <td>331287.00</td>\n",
       "      <td>usa_m</td>\n",
       "    </tr>\n",
       "  </tbody>\n",
       "</table>\n",
       "<p>106192 rows × 3 columns</p>\n",
       "</div>"
      ],
      "text/plain": [
       "              date      value            var\n",
       "0       1986-01-02      25.56  crude_oil_wti\n",
       "1       1986-01-03      26.00  crude_oil_wti\n",
       "2       1986-01-06      26.53  crude_oil_wti\n",
       "3       1986-01-07      25.85  crude_oil_wti\n",
       "4       1986-01-08      25.87  crude_oil_wti\n",
       "...            ...        ...            ...\n",
       "106187  2022-05-01  340385.00          usa_m\n",
       "106188  2022-06-01  339642.00          usa_m\n",
       "106189  2022-07-01  330040.00          usa_m\n",
       "106190  2022-08-01  326472.00          usa_m\n",
       "106191  2022-09-01  331287.00          usa_m\n",
       "\n",
       "[106192 rows x 3 columns]"
      ]
     },
     "execution_count": 16,
     "metadata": {},
     "output_type": "execute_result"
    }
   ],
   "source": [
    "raw_data[\"fred\"]"
   ]
  },
  {
   "cell_type": "markdown",
   "metadata": {},
   "source": [
    "Let's make the date group by month and year. As the data for X and M are available since 2000, we filter all the vars to that year"
   ]
  },
  {
   "cell_type": "code",
   "execution_count": 17,
   "metadata": {},
   "outputs": [],
   "source": [
    "grouped_data = {}\n",
    "for df in raw_data:\n",
    "       grouped_data[df] = (raw_data[df].assign(year = lambda x: pd.DatetimeIndex(x[\"date\"]).year,\n",
    "                                                    month = lambda x: pd.DatetimeIndex(x[\"date\"]).month)\n",
    "                                       .query(\"year >= 1999 & year <= 2022\")\n",
    "                                       .groupby([\"year\", \"month\", \"var\"])\n",
    "                                       .agg({\"value\" : np.mean})               \n",
    "                                       .reset_index())\n",
    "                 "
   ]
  },
  {
   "cell_type": "markdown",
   "metadata": {},
   "source": [
    "The cbk data for Exports and Imports is accumalted by month, we need to transform that to not accumulative value. So we extract those vars and transform them."
   ]
  },
  {
   "cell_type": "code",
   "execution_count": 18,
   "metadata": {},
   "outputs": [],
   "source": [
    "x_data = grouped_data[\"cbk\"].query(\"var == 'exp'\")\n",
    "m_data = grouped_data[\"cbk\"].query(\"var == 'imp'\")\n",
    "flowsvars = [\"exp\", \"imp\"]\n",
    "grouped_data2 = grouped_data.copy()\n",
    "grouped_data2[\"cbk\"] = grouped_data[\"cbk\"].query(\"var not in @flowsvars\")"
   ]
  },
  {
   "cell_type": "markdown",
   "metadata": {},
   "source": [
    "Transforming data in X-M"
   ]
  },
  {
   "cell_type": "code",
   "execution_count": 19,
   "metadata": {},
   "outputs": [
    {
     "name": "stderr",
     "output_type": "stream",
     "text": [
      "c:\\Documentos\\proyectos\\xm4ecast\\notebooks\\..\\src\\data\\cbk_data.py:94: SettingWithCopyWarning: \n",
      "A value is trying to be set on a copy of a slice from a DataFrame.\n",
      "Try using .loc[row_indexer,col_indexer] = value instead\n",
      "\n",
      "See the caveats in the documentation: https://pandas.pydata.org/pandas-docs/stable/user_guide/indexing.html#returning-a-view-versus-a-copy\n",
      "  df.loc[:, \"value_lag\"] = df.groupby(\"year\")[\"value\"].shift()\n",
      "c:\\Documentos\\proyectos\\xm4ecast\\notebooks\\..\\src\\data\\cbk_data.py:95: SettingWithCopyWarning: \n",
      "A value is trying to be set on a copy of a slice from a DataFrame.\n",
      "Try using .loc[row_indexer,col_indexer] = value instead\n",
      "\n",
      "See the caveats in the documentation: https://pandas.pydata.org/pandas-docs/stable/user_guide/indexing.html#returning-a-view-versus-a-copy\n",
      "  df.loc[:, \"value_lag\"] = df.loc[:, \"value_lag\"].replace({np.nan: 0})\n",
      "c:\\Documentos\\proyectos\\xm4ecast\\notebooks\\..\\src\\data\\cbk_data.py:96: SettingWithCopyWarning: \n",
      "A value is trying to be set on a copy of a slice from a DataFrame.\n",
      "Try using .loc[row_indexer,col_indexer] = value instead\n",
      "\n",
      "See the caveats in the documentation: https://pandas.pydata.org/pandas-docs/stable/user_guide/indexing.html#returning-a-view-versus-a-copy\n",
      "  df.loc[:, \"valnotacc\"] = df.loc[:, \"value\"] - df.loc[:, \"value_lag\"]\n",
      "c:\\Documentos\\proyectos\\xm4ecast\\notebooks\\..\\src\\data\\cbk_data.py:94: SettingWithCopyWarning: \n",
      "A value is trying to be set on a copy of a slice from a DataFrame.\n",
      "Try using .loc[row_indexer,col_indexer] = value instead\n",
      "\n",
      "See the caveats in the documentation: https://pandas.pydata.org/pandas-docs/stable/user_guide/indexing.html#returning-a-view-versus-a-copy\n",
      "  df.loc[:, \"value_lag\"] = df.groupby(\"year\")[\"value\"].shift()\n",
      "c:\\Documentos\\proyectos\\xm4ecast\\notebooks\\..\\src\\data\\cbk_data.py:95: SettingWithCopyWarning: \n",
      "A value is trying to be set on a copy of a slice from a DataFrame.\n",
      "Try using .loc[row_indexer,col_indexer] = value instead\n",
      "\n",
      "See the caveats in the documentation: https://pandas.pydata.org/pandas-docs/stable/user_guide/indexing.html#returning-a-view-versus-a-copy\n",
      "  df.loc[:, \"value_lag\"] = df.loc[:, \"value_lag\"].replace({np.nan: 0})\n",
      "c:\\Documentos\\proyectos\\xm4ecast\\notebooks\\..\\src\\data\\cbk_data.py:96: SettingWithCopyWarning: \n",
      "A value is trying to be set on a copy of a slice from a DataFrame.\n",
      "Try using .loc[row_indexer,col_indexer] = value instead\n",
      "\n",
      "See the caveats in the documentation: https://pandas.pydata.org/pandas-docs/stable/user_guide/indexing.html#returning-a-view-versus-a-copy\n",
      "  df.loc[:, \"valnotacc\"] = df.loc[:, \"value\"] - df.loc[:, \"value_lag\"]\n"
     ]
    }
   ],
   "source": [
    "x_data2 = cbk_data.xm_notacc(x_data)\n",
    "m_data2 = cbk_data.xm_notacc(m_data)"
   ]
  },
  {
   "cell_type": "markdown",
   "metadata": {},
   "source": [
    "Now, we join the dataset"
   ]
  },
  {
   "cell_type": "code",
   "execution_count": 20,
   "metadata": {},
   "outputs": [],
   "source": [
    "final_dataset=pd.concat(grouped_data2, axis=0, ignore_index=True)\n",
    "final_dataset=pd.concat([final_dataset, x_data2, m_data2], axis=0, ignore_index=True)"
   ]
  },
  {
   "cell_type": "code",
   "execution_count": 21,
   "metadata": {},
   "outputs": [
    {
     "data": {
      "text/html": [
       "<div>\n",
       "<style scoped>\n",
       "    .dataframe tbody tr th:only-of-type {\n",
       "        vertical-align: middle;\n",
       "    }\n",
       "\n",
       "    .dataframe tbody tr th {\n",
       "        vertical-align: top;\n",
       "    }\n",
       "\n",
       "    .dataframe thead th {\n",
       "        text-align: right;\n",
       "    }\n",
       "</style>\n",
       "<table border=\"1\" class=\"dataframe\">\n",
       "  <thead>\n",
       "    <tr style=\"text-align: right;\">\n",
       "      <th></th>\n",
       "      <th>year</th>\n",
       "      <th>month</th>\n",
       "      <th>var</th>\n",
       "      <th>value</th>\n",
       "    </tr>\n",
       "  </thead>\n",
       "  <tbody>\n",
       "    <tr>\n",
       "      <th>0</th>\n",
       "      <td>1999</td>\n",
       "      <td>1</td>\n",
       "      <td>imae</td>\n",
       "      <td>52.197280</td>\n",
       "    </tr>\n",
       "    <tr>\n",
       "      <th>1</th>\n",
       "      <td>1999</td>\n",
       "      <td>2</td>\n",
       "      <td>imae</td>\n",
       "      <td>48.747353</td>\n",
       "    </tr>\n",
       "    <tr>\n",
       "      <th>2</th>\n",
       "      <td>1999</td>\n",
       "      <td>3</td>\n",
       "      <td>imae</td>\n",
       "      <td>50.386924</td>\n",
       "    </tr>\n",
       "    <tr>\n",
       "      <th>3</th>\n",
       "      <td>1999</td>\n",
       "      <td>4</td>\n",
       "      <td>imae</td>\n",
       "      <td>47.016367</td>\n",
       "    </tr>\n",
       "    <tr>\n",
       "      <th>4</th>\n",
       "      <td>1999</td>\n",
       "      <td>5</td>\n",
       "      <td>imae</td>\n",
       "      <td>48.617007</td>\n",
       "    </tr>\n",
       "  </tbody>\n",
       "</table>\n",
       "</div>"
      ],
      "text/plain": [
       "   year  month   var      value\n",
       "0  1999      1  imae  52.197280\n",
       "1  1999      2  imae  48.747353\n",
       "2  1999      3  imae  50.386924\n",
       "3  1999      4  imae  47.016367\n",
       "4  1999      5  imae  48.617007"
      ]
     },
     "execution_count": 21,
     "metadata": {},
     "output_type": "execute_result"
    }
   ],
   "source": [
    "final_dataset.head()"
   ]
  },
  {
   "cell_type": "markdown",
   "metadata": {},
   "source": [
    "Saving"
   ]
  },
  {
   "cell_type": "code",
   "execution_count": 22,
   "metadata": {},
   "outputs": [],
   "source": [
    "with Path.cwd().parent.joinpath(\"data\", \"cleaned_data.csv\") as e:\n",
    "    final_dataset.to_csv(e, index=False)"
   ]
  }
 ],
 "metadata": {
  "kernelspec": {
   "display_name": "Python 3.9.12 (conda)",
   "language": "python",
   "name": "python3"
  },
  "language_info": {
   "codemirror_mode": {
    "name": "ipython",
    "version": 3
   },
   "file_extension": ".py",
   "mimetype": "text/x-python",
   "name": "python",
   "nbconvert_exporter": "python",
   "pygments_lexer": "ipython3",
   "version": "3.9.12"
  },
  "orig_nbformat": 4,
  "vscode": {
   "interpreter": {
    "hash": "5eb01a626995ddc229fec98ea359c33dd14b348c4f2ca6a2e2f2d3cd68da3526"
   }
  }
 },
 "nbformat": 4,
 "nbformat_minor": 2
}
