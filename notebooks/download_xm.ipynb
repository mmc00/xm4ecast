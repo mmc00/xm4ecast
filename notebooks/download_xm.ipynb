{
 "cells": [
  {
   "cell_type": "markdown",
   "metadata": {},
   "source": [
    "## Web Scrapping for X and M data\n",
    "\n",
    "This script will download the data from the PROCOMER API's. The goal is to be able to get both flows (X - exports and M - imports) by regime, with a monthly frecuency. For that, we will use the selenium package and some helpers."
   ]
  },
  {
   "cell_type": "code",
   "execution_count": 1,
   "metadata": {},
   "outputs": [],
   "source": [
    "from selenium import webdriver\n",
    "# from selenium.webdriver.common.by import By\n",
    "# from selenium.webdriver.chrome.service import Service\n",
    "from pathlib import Path\n",
    "import os\n",
    "import sys\n",
    "sys.path.append('../')\n",
    "from src.data import xm_data"
   ]
  },
  {
   "cell_type": "markdown",
   "metadata": {},
   "source": [
    "We set some parameters. **Please remember to download the lastest version compatible with your chrome and to set the chrome driver location in your path**. If you are running windows your driver path must end with: \"chromedriver.exe\""
   ]
  },
  {
   "cell_type": "code",
   "execution_count": 2,
   "metadata": {},
   "outputs": [
    {
     "name": "stdout",
     "output_type": "stream",
     "text": [
      "Where we are going to download the raw data c:\\Documentos\\proyectos\\xm4ecast\\data\n",
      "Where we are going to store the chrome driver C:\\chrome_driver\\chromedriver.exe\n"
     ]
    }
   ],
   "source": [
    "download_path = str(Path.cwd().parent.joinpath(\"data\").absolute())\n",
    "driver_path = os.getenv(\"DRIVER_PATH\")\n",
    "print(f\"Where we are going to download the raw data {download_path}\")\n",
    "print(f\"Where we are going to store the chrome driver {driver_path}\")"
   ]
  },
  {
   "cell_type": "markdown",
   "metadata": {},
   "source": [
    "We call the web driver with the options from ch_options fun"
   ]
  },
  {
   "cell_type": "code",
   "execution_count": 3,
   "metadata": {},
   "outputs": [],
   "source": [
    "browser = xm_data.dr_options(webdriver, dw_path=download_path, dr_path=driver_path)"
   ]
  },
  {
   "cell_type": "markdown",
   "metadata": {},
   "source": [
    "We set other parameters for the web scrapping. We can increase those parameters to increase the chance of get the data"
   ]
  },
  {
   "cell_type": "code",
   "execution_count": 4,
   "metadata": {},
   "outputs": [
    {
     "name": "stdout",
     "output_type": "stream",
     "text": [
      "The path of the final raw file is: c:\\Documentos\\proyectos\\xm4ecast\\data\\raw_x.xls\n"
     ]
    }
   ],
   "source": [
    "## for wait element call\n",
    "args_wb = {\"driver\": browser, \"attempts\": 9, \"t4wait\": 15, \"tout\": 15}\n",
    "## wait for downloaded file check\n",
    "time_constant = 20\n",
    "## flow selected\n",
    "flow_selected = \"x\"\n",
    "## final path of the raw file\n",
    "final_path = Path.cwd().parent.joinpath(\"data\", \"raw_\" + flow_selected + \".xls\")\n",
    "print(f\"The path of the final raw file is: {final_path}\")"
   ]
  },
  {
   "cell_type": "markdown",
   "metadata": {},
   "source": [
    "Now, we do some clicks in the web page to get the data"
   ]
  },
  {
   "cell_type": "code",
   "execution_count": 5,
   "metadata": {},
   "outputs": [
    {
     "name": "stdout",
     "output_type": "stream",
     "text": [
      "Trying to click: flow\n",
      "WAITING\n",
      "Trying to click: manual6\n",
      "WAITING\n",
      "Trying to click: region\n",
      "WAITING\n",
      "Trying to click: chapter\n",
      "WAITING\n",
      "Trying to click: checkbox_year\n",
      "WAITING\n",
      "Trying to click: all_years\n",
      "WAITING\n",
      "Trying to click: apply_years\n",
      "WAITING\n",
      "Trying to click: download_click\n",
      "WAITING\n",
      "['PivotGrid.xls']\n"
     ]
    }
   ],
   "source": [
    "xm_data.click_call(flow=flow_selected, dw_path=download_path, tm_constant=time_constant, args=args_wb)"
   ]
  },
  {
   "cell_type": "markdown",
   "metadata": {},
   "source": [
    "We move the file downloaded into a final path with the name"
   ]
  },
  {
   "cell_type": "code",
   "execution_count": 6,
   "metadata": {},
   "outputs": [],
   "source": [
    "os.rename(Path(download_path).joinpath(\"PivotGrid.xls\"), final_path)"
   ]
  }
 ],
 "metadata": {
  "kernelspec": {
   "display_name": "Python 3.9.12 (conda)",
   "language": "python",
   "name": "python3"
  },
  "language_info": {
   "codemirror_mode": {
    "name": "ipython",
    "version": 3
   },
   "file_extension": ".py",
   "mimetype": "text/x-python",
   "name": "python",
   "nbconvert_exporter": "python",
   "pygments_lexer": "ipython3",
   "version": "3.9.12"
  },
  "orig_nbformat": 4,
  "vscode": {
   "interpreter": {
    "hash": "5eb01a626995ddc229fec98ea359c33dd14b348c4f2ca6a2e2f2d3cd68da3526"
   }
  }
 },
 "nbformat": 4,
 "nbformat_minor": 2
}
